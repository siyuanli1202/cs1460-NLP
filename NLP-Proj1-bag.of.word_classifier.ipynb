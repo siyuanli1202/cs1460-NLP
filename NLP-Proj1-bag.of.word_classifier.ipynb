{
  "cells": [
    {
      "cell_type": "markdown",
      "metadata": {
        "id": "PXr-P33boqMu"
      },
      "source": [
        "# Before you start"
      ]
    },
    {
      "cell_type": "markdown",
      "metadata": {
        "id": "xQHTrl-FoyZ5"
      },
      "source": [
        "In this class, we will be using Colab for assignments instead of regular Python files. Colab provides more efficient Google GPU and is easier for setting up. Colab is a very powerful platform and it functions very similarly to a Jupyter notebook. We'll  provide you a few tips on how to use Colab;  make sure you read them carefully!"
      ]
    },
    {
      "cell_type": "markdown",
      "metadata": {
        "id": "C3xfjKH5l-yX"
      },
      "source": [
        "☝ **Quick Colab Tips:**\n",
        "\n",
        "*   Make sure you **create a copy** of the Colab before you start coding!!! (File->Save a copy in Drive). If you don't do this, you will lose everything when you close the page and we DON'T want that to happen to you!\n",
        "*   Make sure you hit every play button that you need in previous cells, so that every function / variables you need is defined.\n",
        "*   If you don't want to click everything individually, you can click Runtime and you will find \"Run Before\", \"Run After\", or \"Run All\".\n",
        "*   When you reload the page, the runtime restarts and all variables in the environment are cleared, so you will need to re-run cells.\n",
        "*   If you make changes to a definition in an earlier cell, remember to run the cell to actually update the definition. Then remember to re-run the cells after, or else they will still be using the previous value. \n",
        "*   For more tips on getting started, please take a look at this [video](https://www.youtube.com/watch?v=inN8seMm7UI&ab_channel=TensorFlow).\n"
      ]
    },
    {
      "cell_type": "markdown",
      "source": [
        "**❗ Collaboration policy form ❗**\n",
        "\n",
        "Before you start coding, make sure to fill out the [collaboration policy form](https://docs.google.com/forms/d/e/1FAIpQLSew1CTPi2WdBOkw3kYINf3WE1iKSdUArJZmwuVFczvndkanFQ/viewform)."
      ],
      "metadata": {
        "id": "NOeuELJqTxZC"
      }
    },
    {
      "cell_type": "markdown",
      "metadata": {
        "id": "CtgQAyEeci3U"
      },
      "source": [
        "# Introduction"
      ]
    },
    {
      "cell_type": "markdown",
      "metadata": {
        "id": "KVB34I9mWS0n"
      },
      "source": [
        "Welcome to your first assignment! In this assignment, you will be implementing your very first NLP model (Woohoo!) -- BOW for sentiment classification. In this assignment, you will be using a very useful NLP library (spaCy), and a popular machine learning library (scikit-learn, or sklearn) to help you with preprocessing the data and building the BOW model. In later lectures and assignments, you will learn to implement many of these NLP and ML functions yourself, but in \"the real world\" it is often more practical to use existing libraries like those provided by spaCy and sklearn than to implement these algorithms from scratch. So, in this assignment, we want you to learn how to use these libraries in a practical setting, and we'll later learn about how they work \"under the hood\".\n",
        "\n",
        "The main learning objectives for this assignment are:\n",
        "\n",
        "1. Use sklearn to implement a standard ML workflow (featurization, designing train-test splits, training a model, and evaluating the model). \n",
        "2. Use spaCy for standard NLP preprocessing steps (tokenization, lemmatization, tagging).\n",
        "3. Understand and implement common featurization approaches for text classifiers (ngrams, weighting schemas, tagging)"
      ]
    },
    {
      "cell_type": "markdown",
      "metadata": {
        "id": "itqsAfAOelQ_"
      },
      "source": [
        "The basic workflow for an NLP model contains the following steps:\n",
        "\n",
        "1. Load data\n",
        "2. Preprocess data\n",
        "3. Extract Features\n",
        "4. Train the model\n",
        "5. Evaluate the model\n",
        "6. Analyze model behavior\n",
        "\n",
        "You will implement this full workflow in Part 1. In Part 2, you will experiment with improvments to step 1 (preprocessing). In Part 3, you will experiment with improvements to step 2 (features). "
      ]
    },
    {
      "cell_type": "markdown",
      "metadata": {
        "id": "XnKGrey8cZp2"
      },
      "source": [
        "# Installation and Imports"
      ]
    },
    {
      "cell_type": "markdown",
      "metadata": {
        "id": "WGA9Y8Rycvbs"
      },
      "source": [
        "☝ **Quick Tip:** You can add \"**!**\" in front of a Linux command and it can run on Colab! \n"
      ]
    },
    {
      "cell_type": "code",
      "execution_count": 1,
      "metadata": {
        "id": "rXyZnyPJc2Ze",
        "colab": {
          "base_uri": "https://localhost:8080/"
        },
        "outputId": "be10c62f-66b7-48b8-bb3e-3513da276280"
      },
      "outputs": [
        {
          "output_type": "stream",
          "name": "stdout",
          "text": [
            "Looking in indexes: https://pypi.org/simple, https://us-python.pkg.dev/colab-wheels/public/simple/\n",
            "Requirement already satisfied: spacy in /usr/local/lib/python3.7/dist-packages (3.4.1)\n",
            "Requirement already satisfied: packaging>=20.0 in /usr/local/lib/python3.7/dist-packages (from spacy) (21.3)\n",
            "Requirement already satisfied: pydantic!=1.8,!=1.8.1,<1.10.0,>=1.7.4 in /usr/local/lib/python3.7/dist-packages (from spacy) (1.9.2)\n",
            "Requirement already satisfied: typer<0.5.0,>=0.3.0 in /usr/local/lib/python3.7/dist-packages (from spacy) (0.4.2)\n",
            "Requirement already satisfied: jinja2 in /usr/local/lib/python3.7/dist-packages (from spacy) (2.11.3)\n",
            "Requirement already satisfied: thinc<8.2.0,>=8.1.0 in /usr/local/lib/python3.7/dist-packages (from spacy) (8.1.0)\n",
            "Requirement already satisfied: tqdm<5.0.0,>=4.38.0 in /usr/local/lib/python3.7/dist-packages (from spacy) (4.64.1)\n",
            "Requirement already satisfied: langcodes<4.0.0,>=3.2.0 in /usr/local/lib/python3.7/dist-packages (from spacy) (3.3.0)\n",
            "Requirement already satisfied: catalogue<2.1.0,>=2.0.6 in /usr/local/lib/python3.7/dist-packages (from spacy) (2.0.8)\n",
            "Requirement already satisfied: spacy-loggers<2.0.0,>=1.0.0 in /usr/local/lib/python3.7/dist-packages (from spacy) (1.0.3)\n",
            "Requirement already satisfied: srsly<3.0.0,>=2.4.3 in /usr/local/lib/python3.7/dist-packages (from spacy) (2.4.4)\n",
            "Requirement already satisfied: numpy>=1.15.0 in /usr/local/lib/python3.7/dist-packages (from spacy) (1.21.6)\n",
            "Requirement already satisfied: cymem<2.1.0,>=2.0.2 in /usr/local/lib/python3.7/dist-packages (from spacy) (2.0.6)\n",
            "Requirement already satisfied: preshed<3.1.0,>=3.0.2 in /usr/local/lib/python3.7/dist-packages (from spacy) (3.0.7)\n",
            "Requirement already satisfied: setuptools in /usr/local/lib/python3.7/dist-packages (from spacy) (57.4.0)\n",
            "Requirement already satisfied: spacy-legacy<3.1.0,>=3.0.9 in /usr/local/lib/python3.7/dist-packages (from spacy) (3.0.10)\n",
            "Requirement already satisfied: wasabi<1.1.0,>=0.9.1 in /usr/local/lib/python3.7/dist-packages (from spacy) (0.10.1)\n",
            "Requirement already satisfied: murmurhash<1.1.0,>=0.28.0 in /usr/local/lib/python3.7/dist-packages (from spacy) (1.0.8)\n",
            "Requirement already satisfied: requests<3.0.0,>=2.13.0 in /usr/local/lib/python3.7/dist-packages (from spacy) (2.23.0)\n",
            "Requirement already satisfied: typing-extensions<4.2.0,>=3.7.4 in /usr/local/lib/python3.7/dist-packages (from spacy) (4.1.1)\n",
            "Requirement already satisfied: pathy>=0.3.5 in /usr/local/lib/python3.7/dist-packages (from spacy) (0.6.2)\n",
            "Requirement already satisfied: zipp>=0.5 in /usr/local/lib/python3.7/dist-packages (from catalogue<2.1.0,>=2.0.6->spacy) (3.8.1)\n",
            "Requirement already satisfied: pyparsing!=3.0.5,>=2.0.2 in /usr/local/lib/python3.7/dist-packages (from packaging>=20.0->spacy) (3.0.9)\n",
            "Requirement already satisfied: smart-open<6.0.0,>=5.2.1 in /usr/local/lib/python3.7/dist-packages (from pathy>=0.3.5->spacy) (5.2.1)\n",
            "Requirement already satisfied: certifi>=2017.4.17 in /usr/local/lib/python3.7/dist-packages (from requests<3.0.0,>=2.13.0->spacy) (2022.6.15)\n",
            "Requirement already satisfied: idna<3,>=2.5 in /usr/local/lib/python3.7/dist-packages (from requests<3.0.0,>=2.13.0->spacy) (2.10)\n",
            "Requirement already satisfied: chardet<4,>=3.0.2 in /usr/local/lib/python3.7/dist-packages (from requests<3.0.0,>=2.13.0->spacy) (3.0.4)\n",
            "Requirement already satisfied: urllib3!=1.25.0,!=1.25.1,<1.26,>=1.21.1 in /usr/local/lib/python3.7/dist-packages (from requests<3.0.0,>=2.13.0->spacy) (1.24.3)\n",
            "Requirement already satisfied: blis<0.8.0,>=0.7.8 in /usr/local/lib/python3.7/dist-packages (from thinc<8.2.0,>=8.1.0->spacy) (0.7.8)\n",
            "Requirement already satisfied: click<9.0.0,>=7.1.1 in /usr/local/lib/python3.7/dist-packages (from typer<0.5.0,>=0.3.0->spacy) (7.1.2)\n",
            "Requirement already satisfied: MarkupSafe>=0.23 in /usr/local/lib/python3.7/dist-packages (from jinja2->spacy) (2.0.1)\n",
            "Looking in indexes: https://pypi.org/simple, https://us-python.pkg.dev/colab-wheels/public/simple/\n",
            "Collecting sklearn\n",
            "  Downloading sklearn-0.0.tar.gz (1.1 kB)\n",
            "Requirement already satisfied: scikit-learn in /usr/local/lib/python3.7/dist-packages (from sklearn) (1.0.2)\n",
            "Requirement already satisfied: scipy>=1.1.0 in /usr/local/lib/python3.7/dist-packages (from scikit-learn->sklearn) (1.7.3)\n",
            "Requirement already satisfied: joblib>=0.11 in /usr/local/lib/python3.7/dist-packages (from scikit-learn->sklearn) (1.1.0)\n",
            "Requirement already satisfied: threadpoolctl>=2.0.0 in /usr/local/lib/python3.7/dist-packages (from scikit-learn->sklearn) (3.1.0)\n",
            "Requirement already satisfied: numpy>=1.14.6 in /usr/local/lib/python3.7/dist-packages (from scikit-learn->sklearn) (1.21.6)\n",
            "Building wheels for collected packages: sklearn\n",
            "  Building wheel for sklearn (setup.py) ... \u001b[?25l\u001b[?25hdone\n",
            "  Created wheel for sklearn: filename=sklearn-0.0-py2.py3-none-any.whl size=1310 sha256=e14747158590d64d05738f17b01ecf41f85232dc970e16f2be9e5e54ecb91001\n",
            "  Stored in directory: /root/.cache/pip/wheels/46/ef/c3/157e41f5ee1372d1be90b09f74f82b10e391eaacca8f22d33e\n",
            "Successfully built sklearn\n",
            "Installing collected packages: sklearn\n",
            "Successfully installed sklearn-0.0\n",
            "Mounted at /content/drive\n"
          ]
        }
      ],
      "source": [
        "!pip install spacy\n",
        "!pip install sklearn\n",
        "\n",
        "import csv\n",
        "import pandas as pd\n",
        "import random\n",
        "from google.colab import drive\n",
        "from functools import reduce\n",
        "import spacy\n",
        "import numpy\n",
        "import pickle\n",
        "import os\n",
        "drive.mount(\"/content/drive\", force_remount=True)"
      ]
    },
    {
      "cell_type": "markdown",
      "metadata": {
        "id": "WNpjJgICTERZ"
      },
      "source": [
        "\n",
        "\n",
        "# Part 1: Basic Workflow"
      ]
    },
    {
      "cell_type": "markdown",
      "metadata": {
        "id": "-LFmmfC40yvK"
      },
      "source": [
        "### Step 1: Load the raw data from disk and explore the data"
      ]
    },
    {
      "cell_type": "markdown",
      "source": [
        "In this assignment, we will use a Twitter dataset with social media text. Download the dataset [from Google Drive here](https://drive.google.com/file/d/1AF2v6Cu_gNTe7lzpz_4zsMWMgJ-XjuSh/view?usp=sharing). Drag it into the 'Files' sidebar in this Colab to use the file in our code. \n",
        "\n",
        "In the dataset, the tweets are rated for three categories of sentiment: positive, negative and neutral. We will use the tweets in the `text` column and sentiment in the `sentiment` column. Read the pandas documentation [here](https://pandas.pydata.org/docs/reference/api/pandas.read_csv.html) if you are unfamiliar with dataframes."
      ],
      "metadata": {
        "id": "SgkVdcg-g_A2"
      }
    },
    {
      "cell_type": "code",
      "source": [
        "# Change this filepath if you've placed the .csv elsewhere in your drive.\n",
        "FILEPATH = \"Tweets_5K.csv\""
      ],
      "metadata": {
        "id": "ruKcSLB7qmV1"
      },
      "execution_count": 2,
      "outputs": []
    },
    {
      "cell_type": "code",
      "source": [
        "# check the data at first glimpse\n",
        "df=pd.read_csv(FILEPATH)\n",
        "df.head(10)"
      ],
      "metadata": {
        "colab": {
          "base_uri": "https://localhost:8080/",
          "height": 363
        },
        "id": "17eP1jTo0Hf5",
        "outputId": "ec55c7fd-c40d-4f09-8198-1dbc2d0db36e"
      },
      "execution_count": 3,
      "outputs": [
        {
          "output_type": "execute_result",
          "data": {
            "text/plain": [
              "       textID                                               text sentiment\n",
              "0  cb774db0d1                I`d have responded, if I were going   neutral\n",
              "1  549e992a42      Sooo SAD I will miss you here in San Diego!!!  negative\n",
              "2  088c60f138                          my boss is bullying me...  negative\n",
              "3  9642c003ef                     what interview! leave me alone  negative\n",
              "4  358bd9e861   Sons of ****, why couldn`t they put them on t...  negative\n",
              "5  28b57f3990  http://www.dothebouncy.com/smf - some shameles...   neutral\n",
              "6  6e0c6d75b1  2am feedings for the baby are fun when he is a...  positive\n",
              "7  50e14c0bb8                                         Soooo high   neutral\n",
              "8  e050245fbd                                        Both of you   neutral\n",
              "9  fc2cbefa9d   Journey!? Wow... u just became cooler.  hehe....  positive"
            ],
            "text/html": [
              "\n",
              "  <div id=\"df-64502415-bde0-413d-9710-cc27b32e8c07\">\n",
              "    <div class=\"colab-df-container\">\n",
              "      <div>\n",
              "<style scoped>\n",
              "    .dataframe tbody tr th:only-of-type {\n",
              "        vertical-align: middle;\n",
              "    }\n",
              "\n",
              "    .dataframe tbody tr th {\n",
              "        vertical-align: top;\n",
              "    }\n",
              "\n",
              "    .dataframe thead th {\n",
              "        text-align: right;\n",
              "    }\n",
              "</style>\n",
              "<table border=\"1\" class=\"dataframe\">\n",
              "  <thead>\n",
              "    <tr style=\"text-align: right;\">\n",
              "      <th></th>\n",
              "      <th>textID</th>\n",
              "      <th>text</th>\n",
              "      <th>sentiment</th>\n",
              "    </tr>\n",
              "  </thead>\n",
              "  <tbody>\n",
              "    <tr>\n",
              "      <th>0</th>\n",
              "      <td>cb774db0d1</td>\n",
              "      <td>I`d have responded, if I were going</td>\n",
              "      <td>neutral</td>\n",
              "    </tr>\n",
              "    <tr>\n",
              "      <th>1</th>\n",
              "      <td>549e992a42</td>\n",
              "      <td>Sooo SAD I will miss you here in San Diego!!!</td>\n",
              "      <td>negative</td>\n",
              "    </tr>\n",
              "    <tr>\n",
              "      <th>2</th>\n",
              "      <td>088c60f138</td>\n",
              "      <td>my boss is bullying me...</td>\n",
              "      <td>negative</td>\n",
              "    </tr>\n",
              "    <tr>\n",
              "      <th>3</th>\n",
              "      <td>9642c003ef</td>\n",
              "      <td>what interview! leave me alone</td>\n",
              "      <td>negative</td>\n",
              "    </tr>\n",
              "    <tr>\n",
              "      <th>4</th>\n",
              "      <td>358bd9e861</td>\n",
              "      <td>Sons of ****, why couldn`t they put them on t...</td>\n",
              "      <td>negative</td>\n",
              "    </tr>\n",
              "    <tr>\n",
              "      <th>5</th>\n",
              "      <td>28b57f3990</td>\n",
              "      <td>http://www.dothebouncy.com/smf - some shameles...</td>\n",
              "      <td>neutral</td>\n",
              "    </tr>\n",
              "    <tr>\n",
              "      <th>6</th>\n",
              "      <td>6e0c6d75b1</td>\n",
              "      <td>2am feedings for the baby are fun when he is a...</td>\n",
              "      <td>positive</td>\n",
              "    </tr>\n",
              "    <tr>\n",
              "      <th>7</th>\n",
              "      <td>50e14c0bb8</td>\n",
              "      <td>Soooo high</td>\n",
              "      <td>neutral</td>\n",
              "    </tr>\n",
              "    <tr>\n",
              "      <th>8</th>\n",
              "      <td>e050245fbd</td>\n",
              "      <td>Both of you</td>\n",
              "      <td>neutral</td>\n",
              "    </tr>\n",
              "    <tr>\n",
              "      <th>9</th>\n",
              "      <td>fc2cbefa9d</td>\n",
              "      <td>Journey!? Wow... u just became cooler.  hehe....</td>\n",
              "      <td>positive</td>\n",
              "    </tr>\n",
              "  </tbody>\n",
              "</table>\n",
              "</div>\n",
              "      <button class=\"colab-df-convert\" onclick=\"convertToInteractive('df-64502415-bde0-413d-9710-cc27b32e8c07')\"\n",
              "              title=\"Convert this dataframe to an interactive table.\"\n",
              "              style=\"display:none;\">\n",
              "        \n",
              "  <svg xmlns=\"http://www.w3.org/2000/svg\" height=\"24px\"viewBox=\"0 0 24 24\"\n",
              "       width=\"24px\">\n",
              "    <path d=\"M0 0h24v24H0V0z\" fill=\"none\"/>\n",
              "    <path d=\"M18.56 5.44l.94 2.06.94-2.06 2.06-.94-2.06-.94-.94-2.06-.94 2.06-2.06.94zm-11 1L8.5 8.5l.94-2.06 2.06-.94-2.06-.94L8.5 2.5l-.94 2.06-2.06.94zm10 10l.94 2.06.94-2.06 2.06-.94-2.06-.94-.94-2.06-.94 2.06-2.06.94z\"/><path d=\"M17.41 7.96l-1.37-1.37c-.4-.4-.92-.59-1.43-.59-.52 0-1.04.2-1.43.59L10.3 9.45l-7.72 7.72c-.78.78-.78 2.05 0 2.83L4 21.41c.39.39.9.59 1.41.59.51 0 1.02-.2 1.41-.59l7.78-7.78 2.81-2.81c.8-.78.8-2.07 0-2.86zM5.41 20L4 18.59l7.72-7.72 1.47 1.35L5.41 20z\"/>\n",
              "  </svg>\n",
              "      </button>\n",
              "      \n",
              "  <style>\n",
              "    .colab-df-container {\n",
              "      display:flex;\n",
              "      flex-wrap:wrap;\n",
              "      gap: 12px;\n",
              "    }\n",
              "\n",
              "    .colab-df-convert {\n",
              "      background-color: #E8F0FE;\n",
              "      border: none;\n",
              "      border-radius: 50%;\n",
              "      cursor: pointer;\n",
              "      display: none;\n",
              "      fill: #1967D2;\n",
              "      height: 32px;\n",
              "      padding: 0 0 0 0;\n",
              "      width: 32px;\n",
              "    }\n",
              "\n",
              "    .colab-df-convert:hover {\n",
              "      background-color: #E2EBFA;\n",
              "      box-shadow: 0px 1px 2px rgba(60, 64, 67, 0.3), 0px 1px 3px 1px rgba(60, 64, 67, 0.15);\n",
              "      fill: #174EA6;\n",
              "    }\n",
              "\n",
              "    [theme=dark] .colab-df-convert {\n",
              "      background-color: #3B4455;\n",
              "      fill: #D2E3FC;\n",
              "    }\n",
              "\n",
              "    [theme=dark] .colab-df-convert:hover {\n",
              "      background-color: #434B5C;\n",
              "      box-shadow: 0px 1px 3px 1px rgba(0, 0, 0, 0.15);\n",
              "      filter: drop-shadow(0px 1px 2px rgba(0, 0, 0, 0.3));\n",
              "      fill: #FFFFFF;\n",
              "    }\n",
              "  </style>\n",
              "\n",
              "      <script>\n",
              "        const buttonEl =\n",
              "          document.querySelector('#df-64502415-bde0-413d-9710-cc27b32e8c07 button.colab-df-convert');\n",
              "        buttonEl.style.display =\n",
              "          google.colab.kernel.accessAllowed ? 'block' : 'none';\n",
              "\n",
              "        async function convertToInteractive(key) {\n",
              "          const element = document.querySelector('#df-64502415-bde0-413d-9710-cc27b32e8c07');\n",
              "          const dataTable =\n",
              "            await google.colab.kernel.invokeFunction('convertToInteractive',\n",
              "                                                     [key], {});\n",
              "          if (!dataTable) return;\n",
              "\n",
              "          const docLinkHtml = 'Like what you see? Visit the ' +\n",
              "            '<a target=\"_blank\" href=https://colab.research.google.com/notebooks/data_table.ipynb>data table notebook</a>'\n",
              "            + ' to learn more about interactive tables.';\n",
              "          element.innerHTML = '';\n",
              "          dataTable['output_type'] = 'display_data';\n",
              "          await google.colab.output.renderOutput(dataTable, element);\n",
              "          const docLink = document.createElement('div');\n",
              "          docLink.innerHTML = docLinkHtml;\n",
              "          element.appendChild(docLink);\n",
              "        }\n",
              "      </script>\n",
              "    </div>\n",
              "  </div>\n",
              "  "
            ]
          },
          "metadata": {},
          "execution_count": 3
        }
      ]
    },
    {
      "cell_type": "code",
      "execution_count": 4,
      "metadata": {
        "id": "szjiUpBdl1Ub"
      },
      "outputs": [],
      "source": [
        "# Input: None\n",
        "# Output: List<String> raw_tweets, List<Int> labels\n",
        "def load_data():\n",
        "  # Map positive tweets to 1, neutral tweets to 0, and negative tweets to -1.\n",
        "  # TODO\n",
        "  text_df=pd.read_csv(FILEPATH)\n",
        "  raw_tweets=text_df['text'].apply(str).tolist()\n",
        "  labels=text_df['sentiment'].tolist()\n",
        "  labels=[1 if i==\"positive\" else 0 if i==\"neutral\" else -1 for i in labels]\n",
        "\n",
        "  return raw_tweets, labels"
      ]
    },
    {
      "cell_type": "markdown",
      "metadata": {
        "id": "79FM4wqYFDUn"
      },
      "source": [
        "Before you start to preprocess the data, you should always take a look at the dataset and get a sense of the data you're handling.\n"
      ]
    },
    {
      "cell_type": "code",
      "execution_count": 6,
      "metadata": {
        "id": "RuXYtIARFZ_I",
        "colab": {
          "base_uri": "https://localhost:8080/"
        },
        "outputId": "517b7411-759b-4567-edf1-7c62ca6301d0"
      },
      "outputs": [
        {
          "output_type": "stream",
          "name": "stdout",
          "text": [
            "0:\t I`d have responded, if I were going\n",
            "\n",
            "-1:\t Sooo SAD I will miss you here in San Diego!!!\n",
            "\n",
            "-1:\tmy boss is bullying me...\n",
            "\n",
            "-1:\t what interview! leave me alone\n",
            "\n",
            "-1:\t Sons of ****, why couldn`t they put them on the releases we already bought\n",
            "\n",
            "0:\thttp://www.dothebouncy.com/smf - some shameless plugging for the best Rangers forum on earth\n",
            "\n",
            "1:\t2am feedings for the baby are fun when he is all smiles and coos\n",
            "\n",
            "0:\tSoooo high\n",
            "\n",
            "0:\t Both of you\n",
            "\n",
            "1:\t Journey!? Wow... u just became cooler.  hehe... (is that possible!?)\n",
            "\n"
          ]
        }
      ],
      "source": [
        "raw_tweets, labels = load_data()\n",
        "for p, label in zip(raw_tweets[:10], labels[:10]):\n",
        "  print(f\"{label}:\\t{p}\\n\")"
      ]
    },
    {
      "cell_type": "markdown",
      "metadata": {
        "id": "EznlXSqYRwUd"
      },
      "source": [
        "We can use matplotlib to see the ratio between positive, negative and neutral feedback."
      ]
    },
    {
      "cell_type": "code",
      "execution_count": 7,
      "metadata": {
        "id": "TbL8lmGqR4W1",
        "colab": {
          "base_uri": "https://localhost:8080/",
          "height": 295
        },
        "outputId": "31d26572-3baa-4c78-8928-5b61ab3cef12"
      },
      "outputs": [
        {
          "output_type": "display_data",
          "data": {
            "text/plain": [
              "<Figure size 432x288 with 1 Axes>"
            ],
            "image/png": "[encoded data removed]"
          },
          "metadata": {
            "needs_background": "light"
          }
        }
      ],
      "source": [
        "import matplotlib.pyplot as plt\n",
        "plt.figure()\n",
        "pd.value_counts(labels).plot.bar(title=\"Sentiment distribution in Tweets\")\n",
        "plt.xlabel(\"Sentiment\")\n",
        "plt.ylabel(\"No. of tweets for this sentiment\")\n",
        "plt.show()"
      ]
    },
    {
      "cell_type": "markdown",
      "metadata": {
        "id": "bHTnM_KmhSX4"
      },
      "source": [
        "### Step 2: Preprocess the data"
      ]
    },
    {
      "cell_type": "markdown",
      "source": [
        "In this first part, all of you need to to preprocess is just split the tweets by whitespace."
      ],
      "metadata": {
        "id": "LpaUKiGIR0O9"
      }
    },
    {
      "cell_type": "code",
      "source": [
        "# Input: List<String> Raw tweets\n",
        "# Output: List<List<String>>: preprocessed tweets.\n",
        "# After preprocessing, each tweet should be represented as a list of words (tokens).\n",
        "\n",
        "from nltk.tokenize import WhitespaceTokenizer\n",
        "def preprocess(raw_X):\n",
        "  # TODO Basic tokenization just based on whitespace, with no other preprocessing\n",
        "   \n",
        "   tk = WhitespaceTokenizer()\n",
        "   pp_tweets=[tk.tokenize(twt) for twt in raw_X]\n",
        "\n",
        "   return pp_tweets\n"
      ],
      "metadata": {
        "id": "IS_vaKZYhW8p"
      },
      "execution_count": 8,
      "outputs": []
    },
    {
      "cell_type": "markdown",
      "metadata": {
        "id": "y2hYek_ZiEG8"
      },
      "source": [
        "### Step 3: Extract Features"
      ]
    },
    {
      "cell_type": "code",
      "source": [
        "from sklearn.feature_extraction import DictVectorizer\n",
        "from collections import defaultdict\n",
        "import gensim\n",
        "\n",
        "from gensim import corpora\n",
        "\n",
        "# Input: List<List<String>>: preprocessed Tweets, Optional[DictVectorizer]: dv, Boolean: isTest\n",
        "# Output: Matrix<Float>: feature matrix, DictVectorizer: dv\n",
        "def featurize(preproc_X, dv=None, isTest=False):\n",
        "  # TODO: BOW feature creation function. \n",
        "  dicts =  []\n",
        "  for p_twt in preproc_X:\n",
        "    wd_dict = {}\n",
        "    for i in range(len(p_twt)):\n",
        "        wd_dict[p_twt[i]] = p_twt.count(\n",
        "        p_twt[i]\n",
        "        )\n",
        "    dicts.append(wd_dict)\n",
        "  # create dict every twt\n",
        "  # End: TODO.\n",
        "  # ===== DO NOT MODIFY ======\n",
        "  if isTest is False:\n",
        "    dv = DictVectorizer()\n",
        "    X = dv.fit_transform(dicts)\n",
        "    return X, dv\n",
        "  else:\n",
        "    return dv.transform(dicts), dv\n",
        "  # ====================="
      ],
      "metadata": {
        "id": "R0hIpa31iFcV"
      },
      "execution_count": 10,
      "outputs": []
    },
    {
      "cell_type": "markdown",
      "metadata": {
        "id": "YygH0EsUjBeg"
      },
      "source": [
        "### Step 4: Train the model"
      ]
    },
    {
      "cell_type": "code",
      "source": [
        "from sklearn.linear_model import LogisticRegression\n",
        "# Input: Matrix<Float> X_train, Vector<Int> y_train\n",
        "# Output: LogisticRegression clf\n",
        "def train_classifier(X_train, y_train):\n",
        "  lg_clf = LogisticRegression(random_state=0).fit(X_train, y_train)\n",
        "\n",
        "  return lg_clf\n",
        "  \n",
        "  # TODO train the logistic regression model\n",
        "  # Hint: use sklearn's documentation, this should be a very simple function"
      ],
      "metadata": {
        "id": "5x8zz7wJjChh"
      },
      "execution_count": 11,
      "outputs": []
    },
    {
      "cell_type": "markdown",
      "metadata": {
        "id": "D0WMMAoGjlFT"
      },
      "source": [
        "### Step 5: Evaluate the model"
      ]
    },
    {
      "cell_type": "markdown",
      "source": [
        "To evaluate the model, we need to simulate the \"real world\" setting in which we have trained on our model on the data we have, but now we are using it to assigning labels to data we have never seen before. We will do this using k-fold cross validation. \n",
        "\n",
        "Cross-validation is a resampling procedure used to evaluate machine learning models on a limited data sample. The procedure has a single parameter called `k` that refers to the number of groups that a given data sample is to be split into. As such, the procedure is often called k-fold cross-validation"
      ],
      "metadata": {
        "id": "vgqYc0tqjpkr"
      }
    },
    {
      "cell_type": "code",
      "source": [
        "from sklearn.model_selection import train_test_split\n",
        "import numpy as np\n",
        "from sklearn.model_selection import KFold\n",
        "\n",
        "# Input: Matrix<Float> X, Vector<Int> y, LogisticRegression trained_clf\n",
        "# Output: Float accuracy\n",
        "# Hint: you will need to reshape y as (-1, 1)\n",
        "def evaluate_model(X, y, clf):\n",
        "  # TODO evaluate the logistic regression model\n",
        "  # Hint: use sklearn's documentation, this should be a very simple function\n",
        "  \n",
        "  return clf.score(X, y.reshape(-1,1))\n",
        "  \n",
        "# Input: List<List<String>> X, Vector<Int> y\n",
        "# Output: List<Float> accuracies\n",
        "def run_kfold_crossval(X, y, k=5, feature_fn=featurize):\n",
        "  # TODO implement k-fold cross validation and return a list of accuracies\n",
        "  # Hint: use sklearn's train_test_split with a 80/20 train/test split\n",
        "  # Hint: or, investigate other functions from sklearn (sklearn.model_selection.KFold)\n",
        "  acc_clf=[]\n",
        "  X_new, dv=feature_fn(X)\n",
        "  kf = KFold(n_splits=k)\n",
        "  kf.get_n_splits(X)\n",
        "  for train_index, test_index in kf.split(X_new):\n",
        "     X_train, X_test = X_new[train_index.astype(int)], X_new[test_index.astype(int)]\n",
        "     y_train, y_test = np.array(y)[train_index.astype(int)], np.array(y)[test_index.astype(int)]\n",
        "     mod=train_classifier(X_train, y_train)\n",
        "     acc_pd=evaluate_model(X_test, y_test, mod)\n",
        "     acc_clf.append(acc_pd)\n",
        "\n",
        "  return acc_clf, X_new, dv\n"
      ],
      "metadata": {
        "id": "XVS-vcP2joXG"
      },
      "execution_count": 12,
      "outputs": []
    },
    {
      "cell_type": "markdown",
      "metadata": {
        "id": "lOz9M-b8laaq"
      },
      "source": [
        "### Step 6: Analyze Model Performance"
      ]
    },
    {
      "cell_type": "markdown",
      "source": [
        "Let's see how well our model is doing!"
      ],
      "metadata": {
        "id": "wddNvm-Rlb7M"
      }
    },
    {
      "cell_type": "code",
      "source": [
        "from scipy.stats import describe\n",
        "from math import sqrt\n",
        "\n",
        "def make_plots(perfs, names):\n",
        "  means = []\n",
        "  stds = []\n",
        "  for i,perf in enumerate(perfs):\n",
        "   n, minmax, mean, var, skew, kurt = describe(perf)\n",
        "   means.append(mean)\n",
        "   stds.append(sqrt(var))\n",
        "   print(\"%s:\\t%.03f\"%(names[i], mean))\n",
        "  plt.bar(np.arange(len(means)), means, yerr=stds)\n",
        "  plt.xticks(np.arange(len(names)), names)\n",
        "  plt.show()\n"
      ],
      "metadata": {
        "id": "F3Q5XsZglda0"
      },
      "execution_count": 13,
      "outputs": []
    },
    {
      "cell_type": "code",
      "source": [
        "from collections import Counter\n",
        "\n",
        "K_FOLD = 5\n",
        "raw_tweets, y = load_data()\n",
        "\n",
        "X_preproc = preprocess(raw_tweets)\n",
        "basic_bow_accs , feat_matx, feat_dict = run_kfold_crossval(X_preproc, y, k=K_FOLD, feature_fn=featurize)\n",
        "\n",
        "# here, we are going generate the \"most frequent class\" baseline based on the\n",
        "# training data\n",
        "counts = Counter(y).values()\n",
        "mfc_baseline = [max(counts)/sum(counts)] * K_FOLD\n",
        "\n",
        "# plot the results!\n",
        "make_plots([mfc_baseline, basic_bow_accs], [\"MFC Baseline\", \"Basic BOW\"])  "
      ],
      "metadata": {
        "id": "oBiT5f1Bn34C",
        "colab": {
          "base_uri": "https://localhost:8080/",
          "height": 1000
        },
        "outputId": "40820ce1-7eca-4896-dffa-1cdde31f67a8"
      },
      "execution_count": 57,
      "outputs": [
        {
          "output_type": "stream",
          "name": "stderr",
          "text": [
            "/usr/local/lib/python3.7/dist-packages/sklearn/linear_model/_logistic.py:818: ConvergenceWarning: lbfgs failed to converge (status=1):\n",
            "STOP: TOTAL NO. of ITERATIONS REACHED LIMIT.\n",
            "\n",
            "Increase the number of iterations (max_iter) or scale the data as shown in:\n",
            "    https://scikit-learn.org/stable/modules/preprocessing.html\n",
            "Please also refer to the documentation for alternative solver options:\n",
            "    https://scikit-learn.org/stable/modules/linear_model.html#logistic-regression\n",
            "  extra_warning_msg=_LOGISTIC_SOLVER_CONVERGENCE_MSG,\n",
            "/usr/local/lib/python3.7/dist-packages/sklearn/linear_model/_logistic.py:818: ConvergenceWarning: lbfgs failed to converge (status=1):\n",
            "STOP: TOTAL NO. of ITERATIONS REACHED LIMIT.\n",
            "\n",
            "Increase the number of iterations (max_iter) or scale the data as shown in:\n",
            "    https://scikit-learn.org/stable/modules/preprocessing.html\n",
            "Please also refer to the documentation for alternative solver options:\n",
            "    https://scikit-learn.org/stable/modules/linear_model.html#logistic-regression\n",
            "  extra_warning_msg=_LOGISTIC_SOLVER_CONVERGENCE_MSG,\n",
            "/usr/local/lib/python3.7/dist-packages/sklearn/linear_model/_logistic.py:818: ConvergenceWarning: lbfgs failed to converge (status=1):\n",
            "STOP: TOTAL NO. of ITERATIONS REACHED LIMIT.\n",
            "\n",
            "Increase the number of iterations (max_iter) or scale the data as shown in:\n",
            "    https://scikit-learn.org/stable/modules/preprocessing.html\n",
            "Please also refer to the documentation for alternative solver options:\n",
            "    https://scikit-learn.org/stable/modules/linear_model.html#logistic-regression\n",
            "  extra_warning_msg=_LOGISTIC_SOLVER_CONVERGENCE_MSG,\n",
            "/usr/local/lib/python3.7/dist-packages/sklearn/linear_model/_logistic.py:818: ConvergenceWarning: lbfgs failed to converge (status=1):\n",
            "STOP: TOTAL NO. of ITERATIONS REACHED LIMIT.\n",
            "\n",
            "Increase the number of iterations (max_iter) or scale the data as shown in:\n",
            "    https://scikit-learn.org/stable/modules/preprocessing.html\n",
            "Please also refer to the documentation for alternative solver options:\n",
            "    https://scikit-learn.org/stable/modules/linear_model.html#logistic-regression\n",
            "  extra_warning_msg=_LOGISTIC_SOLVER_CONVERGENCE_MSG,\n"
          ]
        },
        {
          "output_type": "stream",
          "name": "stdout",
          "text": [
            "MFC Baseline:\t0.405\n",
            "Basic BOW:\t0.586\n"
          ]
        },
        {
          "output_type": "stream",
          "name": "stderr",
          "text": [
            "/usr/local/lib/python3.7/dist-packages/sklearn/linear_model/_logistic.py:818: ConvergenceWarning: lbfgs failed to converge (status=1):\n",
            "STOP: TOTAL NO. of ITERATIONS REACHED LIMIT.\n",
            "\n",
            "Increase the number of iterations (max_iter) or scale the data as shown in:\n",
            "    https://scikit-learn.org/stable/modules/preprocessing.html\n",
            "Please also refer to the documentation for alternative solver options:\n",
            "    https://scikit-learn.org/stable/modules/linear_model.html#logistic-regression\n",
            "  extra_warning_msg=_LOGISTIC_SOLVER_CONVERGENCE_MSG,\n"
          ]
        },
        {
          "output_type": "display_data",
          "data": {
            "text/plain": [
              "<Figure size 432x288 with 1 Axes>"
            ],
            "image/png": "[encoded data removed]"
          },
          "metadata": {
            "needs_background": "light"
          }
        }
      ]
    },
    {
      "cell_type": "markdown",
      "source": [
        "### ❗ Conceptual Questions (Answer within the Colab cell). 👈👈👈 [Don't miss this section!]\n",
        "You will need to write some code, or add some print statements to the functions you’ve already written, to help you answer the questions.\n",
        "\n",
        "1. What are the dimensions of your feature matrix (X)?\n",
        "2. What is the value of X[1460][1460]?\n",
        "3. What feature does the 1460th column represent?\n",
        "4. Run one iteration of your k-fold cross validation function to find an example of a word that appears in the test set but never appears in the training set. What word did you find, and what is the tweet in which it occurred?\n",
        "5. What happens to that new word when the tweet is featurized at test time? I.e., what is the feature representation of the tweet that contains the unknown word?\n",
        "\n",
        "\n"
      ],
      "metadata": {
        "id": "Y4w65qPFiiYS"
      }
    },
    {
      "cell_type": "code",
      "source": [
        "print(feat_matx.shape)\n",
        "print(feat_matx[1460, 1460])\n",
        "print(feat_dict.get_feature_names_out()[1460])\n",
        "\n",
        "X_preproc = preprocess(raw_tweets)\n",
        "acc_clf=[]\n",
        "X_new, dv=featurize(X_preproc)\n",
        "kf = KFold(n_splits=5)\n",
        "kf.get_n_splits(X_preproc)\n",
        "for train_index, test_index in kf.split(X_new):\n",
        "    X_train, X_test = X_new[train_index.astype(int)], X_new[test_index.astype(int)]\n",
        "    y_train, y_test = np.array(y)[train_index.astype(int)], np.array(y)[test_index.astype(int)]\n",
        "    mod=train_classifier(X_train, y_train)\n",
        "    acc_pd=evaluate_model(X_test, y_test, mod)\n",
        "    acc_clf.append(acc_pd)\n",
        "\n",
        "print(acc_clf)\n",
        "\n",
        "\n",
        "from itertools import compress\n",
        "  \n",
        "non_zero_wd = ((X_train!=0).sum(axis=0)==0).tolist()[0]\n",
        "print(non_zero_wd)\n",
        "res = list(compress(range(len(non_zero_wd)), non_zero_wd))\n",
        "print(res)\n",
        "print(dv.get_feature_names_out()[22])\n",
        "\n",
        "\n",
        "filter_object = list(filter(lambda a: '#FollowFriday,' in a, X_preproc))\n",
        "filter_object\n"
      ],
      "metadata": {
        "id": "v3odWQlNEuuR",
        "colab": {
          "base_uri": "https://localhost:8080/"
        },
        "outputId": "90662389-bbc2-4312-8a54-14f0821719c8"
      },
      "execution_count": 100,
      "outputs": [
        {
          "output_type": "stream",
          "name": "stdout",
          "text": [
            "[False, False, False, False, False, False, False, True, True, False, True, False, False, True, True, False, False, False, False, False, False, False, True, True, False, False, False, False, False, False, True, False, False, False, False, False, False, True, True, False, False, False, False, False, False, False, False, True, True, False, False, True, True, False, True, True, False, True, False, True, False, False, True, False, False, False, False, False, False, False, True, False, False, True, False, True, False, False, False, False, True, False, False, True, False, False, True, False, False, False, False, False, False, False, False, False, False, False, False, False, False, False, False, False, False, False, False, False, False, False, False, False, False, False, False, True, True, False, False, False, False, False, False, False, True, False, False, False, True, False, False, False, False, True, False, True, True, False, False, False, False, False, True, False, False, True, False, True, True, False, False, False, False, False, False, True, True, False, False, False, False, False, False, False, False, True, False, True, False, False, False, False, True, False, False, True, False, False, False, False, False, False, True, False, False, True, False, False, True, True, True, False, True, False, False, True, False, True, True, False, False, False, False, False, False, False, False, False, False, True, False, False, True, False, False, False, False, True, False, False, False, True, False, False, True, False, False, True, False, False, False, True, False, False, True, False, False, True, False, False, False, False, False, False, False, False, True, False, False, False, True, True, False, False, False, True, False, False, False, True, False, False, True, False, False, False, True, False, False, True, False, False, False, False, False, False, False, True, False, True, True, False, False, False, False, False, True, True, False, False, False, False, False, False, False, False, False, False, False, False, False, False, False, False, False, False, True, False, False, False, False, False, False, False, True, False, False, False, False, False, False, False, False, False, False, False, False, False, True, False, True, False, True, False, False, False, False, False, False, False, False, True, False, False, False, False, False, True, False, False, False, False, True, False, True, False, True, True, False, False, False, True, False, False, False, False, False, True, False, False, False, True, False, True, False, False, False, False, True, False, False, False, True, False, False, False, False, False, False, False, False, False, False, False, False, False, False, True, False, True, False, True, False, False, False, False, False, False, True, False, False, False, False, False, False, False, False, False, False, False, False, False, False, False, False, True, True, False, False, False, False, False, False, False, False, False, False, False, False, False, False, False, True, False, True, False, True, True, False, True, False, False, True, False, False, False, False, False, False, False, False, False, True, False, True, False, False, False, False, True, False, False, False, True, True, False, True, False, False, False, True, False, False, False, False, False, False, False, False, False, False, False, False, True, False, False, False, False, True, False, False, False, False, False, False, False, False, False, False, False, False, True, False, False, False, False, True, False, False, True, False, False, False, False, False, False, False, False, False, False, False, False, False, False, False, False, False, False, False, False, False, False, False, True, False, False, False, False, False, False, False, False, False, False, True, False, True, False, False, False, False, False, False, False, False, False, False, True, False, False, False, False, False, False, False, False, False, False, False, False, False, True, True, False, False, False, False, False, False, True, False, False, False, False, False, True, False, True, False, False, False, True, False, False, False, False, True, False, False, False, False, False, True, False, False, False, False, False, False, False, True, False, True, False, False, True, False, False, False, False, True, False, False, False, True, False, False, False, False, False, False, False, False, False, False, False, False, False, False, False, False, False, False, True, False, False, True, False, False, False, False, False, False, False, False, False, False, False, False, True, False, False, False, False, False, False, True, False, False, True, False, False, False, False, False, False, False, False, False, False, False, False, True, False, True, False, False, False, False, True, False, True, False, False, False, False, False, False, False, False, False, False, True, False, False, True, False, False, False, False, True, False, True, False, True, True, True, True, False, True, True, False, False, True, False, False, False, False, True, False, False, False, False, False, False, False, False, False, False, False, False, True, False, False, False, False, False, False, False, False, False, False, False, False, False, False, False, False, False, False, False, False, False, False, True, False, False, False, False, False, False, False, False, True, False, False, False, False, False, False, False, False, True, True, False, False, False, False, False, False, False, False, False, False, False, False, False, False, False, False, False, False, True, False, False, False, True, False, True, False, False, True, False, True, True, False, False, False, False, False, False, False, False, False, False, False, False, True, False, False, False, False, False, True, True, False, False, False, True, False, False, False, False, False, True, True, True, False, False, False, False, False, False, False, False, False, False, False, False, False, False, True, False, False, True, False, False, True, False, False, False, False, False, False, True, False, False, False, False, False, False, False, True, True, False, False, False, True, False, True, False, False, True, False, False, True, False, False, False, False, False, False, True, False, False, False, False, False, False, True, False, False, False, False, False, False, False, True, False, False, False, False, False, False, False, False, False, False, True, False, False, False, False, False, False, False, False, False, False, False, False, False, False, False, False, False, True, False, False, False, False, False, True, False, False, False, False, False, False, False, False, False, False, False, False, False, False, False, False, True, True, False, False, False, False, False, False, False, False, True, False, True, False, True, False, False, False, True, False, True, False, False, True, False, False, False, False, False, False, False, True, False, False, True, False, False, False, False, False, True, False, False, False, False, False, False, False, True, False, True, False, False, False, False, False, False, False, False, False, False, False, False, False, False, False, False, False, False, True, False, False, False, False, False, False, False, False, False, False, True, False, False, False, False, False, False, False, False, False, False, True, False, False, False, True, False, False, False, False, False, False, True, False, False, True, False, False, False, False, False, False, False, False, True, False, False, False, False, True, False, False, False, False, False, False, False, False, False, True, False, True, True, False, False, True, False, False, False, False, False, False, False, True, False, False, False, True, False, True, False, False, False, True, True, False, False, True, False, False, True, False, False, False, True, False, True, False, False, False, False, False, True, False, False, False, False, True, False, False, False, False, False, False, False, False, False, False, False, False, False, False, False, False, False, False, False, False, True, False, False, False, False, False, False, False, False, False, False, False, False, False, False, False, False, False, True, False, False, False, False, False, False, False, False, False, False, False, False, False, False, False, True, False, False, False, False, False, False, False, False, False, False, False, False, True, False, False, False, False, False, False, False, False, False, False, False, False, False, True, False, True, False, False, True, False, False, False, False, False, False, False, False, False, False, False, False, False, False, False, False, False, False, False, True, False, False, False, False, True, False, True, False, False, False, False, True, False, False, True, True, False, False, False, False, False, False, False, False, False, True, True, False, True, False, False, False, False, True, True, False, False, False, False, False, False, False, False, True, False, False, True, False, True, True, False, False, True, False, False, False, False, False, False, False, False, False, False, False, False, False, False, True, True, False, True, False, False, False, False, False, False, False, False, False, False, False, False, False, False, False, False, False, False, False, False, False, False, True, False, False, False, False, False, True, False, False, False, False, False, False, False, False, False, True, False, True, True, False, False, False, False, False, False, False, False, False, False, False, False, False, True, True, False, False, False, True, False, False, False, False, False, True, False, False, False, False, False, False, False, False, False, False, False, False, True, False, False, False, False, False, False, False, False, False, False, False, True, False, False, False, False, False, True, False, False, False, True, False, False, False, False, False, False, False, False, False, True, False, False, False, False, False, False, False, False, False, False, False, True, False, False, True, False, False, False, False, False, True, True, False, True, False, False, False, False, False, False, False, True, False, False, False, False, False, False, False, False, False, False, True, False, False, False, False, True, False, False, True, False, False, False, True, False, False, False, False, False, False, True, False, False, False, False, False, False, False, False, False, False, False, False, False, True, False, True, False, True, False, True, False, False, False, False, False, False, False, True, False, False, False, False, False, False, False, True, False, False, False, False, True, True, False, False, False, True, False, False, False, False, False, False, False, False, False, False, False, False, False, False, False, False, False, False, False, True, False, True, False, False, True, False, False, False, False, False, False, False, False, False, False, False, False, True, False, False, False, False, False, False, False, True, False, False, False, False, False, False, False, False, True, False, True, False, False, True, False, False, True, False, False, False, True, False, True, False, False, True, True, False, False, False, False, False, True, False, False, False, False, False, False, False, False, False, True, False, False, False, False, False, False, False, False, False, True, False, True, True, False, False, False, False, False, False, False, True, False, False, False, False, False, False, False, False, False, False, True, False, True, False, False, True, False, False, False, False, False, False, False, True, True, False, True, False, False, True, True, False, False, False, False, True, False, True, False, False, False, False, True, False, False, False, False, False, True, False, True, False, False, False, False, False, False, True, False, True, False, False, False, False, False, False, False, False, False, False, False, True, False, False, False, False, False, False, False, True, False, False, False, False, False, False, False, False, False, False, False, False, True, False, False, True, True, False, True, False, False, False, False, False, False, False, False, False, False, False, False, False, False, True, False, False, False, False, False, True, False, False, False, False, False, False, False, False, False, False, False, False, False, False, True, False, True, False, False, False, False, False, False, False, False, True, False, False, True, False, True, False, True, False, False, True, False, False, False, False, False, True, True, False, False, False, False, True, False, False, False, True, False, False, False, False, False, True, False, False, False, False, False, False, True, False, False, False, False, True, False, False, False, False, False, False, False, True, False, False, True, False, True, False, False, True, True, False, True, False, False, False, False, True, False, False, False, False, False, False, False, False, False, False, False, True, True, False, True, True, False, False, True, False, False, False, False, False, False, False, False, False, False, False, False, False, False, False, True, False, False, False, False, False, False, False, False, True, False, True, False, False, False, False, False, False, True, False, False, False, False, False, False, True, False, False, False, False, False, False, False, False, True, False, False, False, False, False, False, True, False, False, False, False, False, True, False, False, False, False, False, False, False, False, False, False, True, False, False, False, False, False, False, False, False, False, False, False, False, True, False, False, False, False, False, False, False, False, False, False, False, False, True, False, False, False, False, False, False, False, True, False, False, False, False, False, False, False, True, False, False, False, False, False, False, False, False, False, False, True, False, False, False, False, False, False, False, False, False, True, False, False, False, False, False, False, True, False, False, False, True, False, True, False, False, False, False, False, True, True, False, False, False, False, False, False, True, False, False, True, True, False, False, False, False, False, False, False, False, False, False, False, False, False, True, False, False, False, True, False, False, False, False, False, False, True, False, False, True, False, False, False, False, True, True, False, False, False, False, False, False, False, False, False, True, False, True, True, True, False, False, True, False, False, False, False, False, False, False, False, False, False, False, True, False, True, False, False, False, False, False, False, False, False, True, False, True, False, False, True, False, False, False, False, False, False, False, False, False, False, True, False, False, False, False, False, False, False, False, False, False, False, False, False, False, False, True, False, False, False, False, False, False, False, False, False, False, False, False, False, False, False, False, False, False, False, False, False, True, True, False, False, False, False, False, False, False, True, False, False, False, False, False, False, False, True, False, False, False, False, False, False, False, False, True, False, False, True, True, False, False, False, False, True, False, False, False, False, False, False, False, False, False, False, False, False, False, True, False, False, False, True, False, True, False, False, False, False, False, True, False, True, True, False, False, False, False, True, True, False, True, False, False, False, False, False, False, False, False, False, False, True, True, False, False, False, False, False, False, False, False, False, False, False, False, False, False, False, False, False, True, True, False, False, False, False, False, True, True, False, True, True, False, False, False, False, False, False, True, False, False, True, False, True, False, False, False, False, False, False, False, False, False, True, False, False, False, False, False, False, False, False, False, False, False, False, True, False, False, False, False, True, False, False, False, False, False, False, False, False, False, False, False, False, False, False, False, False, False, False, False, False, True, True, False, False, False, False, False, False, True, False, False, False, False, False, False, True, False, False, False, False, True, False, False, False, True, True, False, False, False, False, False, False, False, False, True, False, False, False, False, False, False, True, False, True, True, False, False, False, True, False, False, True, False, False, False, False, False, False, False, False, True, False, False, False, True, False, False, False, False, False, False, False, False, False, False, False, False, True, False, True, False, False, False, True, True, True, False, False, True, True, False, False, False, False, False, False, False, True, False, False, False, False, False, False, True, False, True, False, False, False, False, False, False, False, False, True, False, False, False, False, False, False, True, False, False, False, False, False, False, False, False, False, False, False, False, False, True, True, False, False, False, False, False, False, False, False, True, False, True, False, False, False, False, False, False, False, False, False, False, True, False, False, False, True, False, False, False, False, False, False, False, False, False, True, True, False, False, False, True, False, False, False, False, True, False, False, False, False, False, True, False, False, False, True, False, False, False, False, False, False, False, False, True, False, True, False, False, False, False, False, False, False, False, False, False, False, False, False, False, False, False, False, False, False, False, False, False, True, False, True, False, True, True, False, False, False, False, False, True, False, False, False, False, False, False, True, False, False, False, False, True, False, True, False, False, False, False, False, False, True, False, False, False, False, True, False, False, False, True, True, True, False, False, True, False, False, True, False, False, False, False, False, False, True, False, False, True, False, False, False, False, False, False, False, False, False, False, False, False, False, False, False, False, False, False, False, False, False, False, False, False, False, True, False, False, True, False, False, False, False, False, False, False, False, True, False, True, True, False, False, True, False, False, False, False, False, False, True, False, False, True, False, False, False, False, False, False, False, False, False, False, False, False, False, False, False, True, False, False, True, False, False, False, False, True, False, False, False, False, False, False, False, False, False, False, False, True, False, False, False, False, False, False, False, False, False, True, False, False, False, True, False, False, True, False, False, False, False, False, False, False, False, True, False, False, False, False, False, False, False, False, True, False, False, False, False, False, False, False, True, False, False, False, False, False, True, False, False, False, True, False, False, False, False, False, True, False, True, False, False, False, False, False, False, False, False, False, False, False, False, False, False, False, False, False, False, False, False, False, True, True, False, False, True, False, False, False, False, False, False, False, False, False, True, False, True, True, False, False, True, False, False, False, False, False, False, False, False, False, False, False, False, False, False, False, False, False, False, False, False, False, False, False, False, False, False, False, False, False, False, False, False, False, True, False, True, False, False, False, False, False, False, False, True, False, False, False, False, False, False, False, False, False, False, False, False, False, True, False, False, False, False, True, True, False, False, True, False, True, False, True, False, False, False, False, False, False, False, False, False, True, False, False, False, False, False, False, True, False, True, False, True, False, False, False, True, False, False, False, False, False, False, True, False, False, False, False, False, False, False, False, False, False, False, False, False, False, False, False, False, False, True, False, False, False, False, False, False, False, False, False, False, True, False, False, False, False, False, True, False, False, False, False, False, False, True, True, True, False, False, False, False, False, False, False, True, False, True, False, True, False, False, False, False, False, True, False, False, False, False, False, False, False, False, False, False, False, False, False, False, False, False, False, False, False, False, False, False, False, False, False, False, False, False, True, False, False, False, True, True, False, False, False, False, False, False, False, True, False, False, False, False, False, True, True, False, False, False, False, False, False, True, False, False, False, False, True, False, False, False, False, False, False, False, False, False, False, False, False, False, False, False, False, False, False, False, False, False, False, True, False, False, False, True, False, False, False, False, False, False, False, False, False, False, False, True, False, False, False, False, True, False, True, False, False, False, False, False, False, False, False, False, True, False, False, True, False, False, False, False, False, False, False, False, False, False, False, False, False, False, False, False, False, False, False, False, False, False, False, False, False, False, False, True, False, False, False, False, False, False, False, False, False, False, False, False, False, False, False, False, False, False, False, False, False, False, True, False, False, True, False, False, False, False, False, False, False, True, False, False, False, False, True, False, False, False, False, True, False, False, False, False, False, False, False, False, False, True, True, False, True, True, False, False, False, False, False, False, True, False, False, False, False, False, False, True, False, True, False, False, False, True, False, False, False, True, False, False, False, False, True, False, False, False, True, False, False, False, False, False, False, False, False, False, False, False, False, True, True, True, False, False, False, False, False, False, False, False, False, False, False, False, False, False, False, False, False, False, False, False, False, False, True, False, False, False, False, False, False, True, False, True, False, False, False, False, True, True, False, False, False, True, False, False, False, False, False, False, False, False, True, True, False, False, False, True, True, True, False, False, False, True, True, False, False, False, False, False, False, True, False, False, True, False, False, False, False, False, True, False, True, False, False, False, False, False, False, False, False, False, False, True, False, False, True, False, False, True, False, False, False, False, False, False, False, False, False, False, False, False, False, False, False, False, False, False, False, False, False, False, False, True, False, True, False, False, True, True, False, False, False, False, False, False, False, False, False, False, False, False, True, False, False, False, False, False, False, False, True, False, False, False, False, False, False, False, False, False, False, False, False, False, False, False, False, True, False, False, True, False, False, True, False, False, False, False, False, False, False, True, False, False, False, False, True, False, False, False, False, True, False, False, False, False, False, False, False, False, False, True, False, False, False, False, False, False, True, False, False, False, False, False, False, False, False, True, False, False, False, True, False, True, False, False, False, False, False, False, False, False, True, False, False, False, False, False, False, False, True, True, False, False, False, False, True, True, False, False, True, True, False, False, False, False, True, False, True, True, True, False, True, False, False, False, False, False, False, True, False, False, False, False, False, False, False, False, False, False, False, False, False, False, False, False, True, False, False, True, False, False, False, True, False, False, True, False, False, True, False, True, True, False, False, False, False, False, False, False, False, False, False, False, True, False, False, True, False, True, False, False, False, False, False, False, False, False, False, False, False, True, False, True, False, False, False, False, False, False, False, False, True, False, True, True, False, True, False, False, False, True, False, False, False, False, True, True, False, True, False, False, False, True, False, False, False, False, False, False, False, False, False, True, False, False, True, True, False, False, False, True, False, True, True, False, False, False, True, False, False, False, False, True, True, False, False, False, True, False, False, False, True, False, False, False, True, False, True, False, False, False, False, False, False, False, False, False, False, False, False, False, True, False, False, True, False, False, True, True, False, True, False, False, True, False, True, True, False, True, False, False, False, False, False, False, False, False, False, False, False, False, False, False, False, True, False, False, False, True, False, False, False, False, False, True, False, False, True, False, False, True, False, False, False, False, False, False, False, True, False, False, False, False, False, False, False, False, True, False, False, False, True, True, False, False, True, False, False, False, False, False, False, False, False, False, False, False, False, False, False, False, False, False, False, False, False, False, False, False, False, False, False, False, False, False, False, False, False, True, False, True, False, False, False, False, False, False, False, False, False, False, False, False, False, False, False, False, False, False, False, False, False, False, False, False, False, False, False, False, True, False, False, False, False, False, False, True, False, False, False, True, False, False, False, False, False, False, False, False, False, False, False, True, False, True, True, False, False, False, False, False, False, False, True, False, True, False, False, False, True, False, False, False, False, False, False, False, False, False, False, False, False, True, False, False, True, False, False, False, False, True, False, False, False, False, True, False, False, False, False, False, False, False, False, False, False, False, True, False, False, False, False, False, False, True, False, False, True, False, False, False, False, False, False, False, False, False, False, False, False, False, False, False, False, False, False, False, True, False, False, False, True, False, False, True, False, False, True, False, False, True, True, False, False, False, False, False, False, False, True, True, False, False, False, False, True, False, False, True, True, False, False, False, True, False, False, False, False, False, False, False, False, True, False, False, False, False, False, False, True, False, True, False, False, False, False, True, False, False, True, False, True, False, False, False, False, True, False, False, False, False, True, False, True, True, True, False, True, False, False, False, False, False, False, False, True, True, False, False, False, False, True, False, False, False, False, False, False, False, False, False, True, False, False, False, False, False, False, True, True, False, False, True, False, True, False, False, False, False, True, False, False, False, False, False, False, False, True, False, False, False, False, False, False, False, False, False, False, False, False, False, False, False, False, False, False, False, False, True, False, False, True, False, False, False, False, False, False, False, False, False, False, False, True, False, False, False, True, False, True, False, False, False, False, False, False, False, True, True, False, False, False, False, False, False, False, True, True, False, False, False, False, False, False, False, False, False, False, True, False, False, False, False, False, False, False, False, False, False, False, False, False, False, True, False, True, False, False, True, False, False, False, False, True, False, False, False, False, False, False, True, False, True, True, False, False, False, False, False, False, False, True, False, False, True, True, False, False, False, False, False, False, False, False, False, False, False, False, False, False, False, False, False, False, False, False, False, False, False, False, False, False, False, False, False, False, True, False, True, False, False, False, False, False, False, False, False, True, False, False, True, False, False, False, False, False, False, False, True, False, False, False, False, False, False, False, False, False, False, False, True, False, True, False, False, False, True, False, False, True, True, False, False, False, False, True, False, True, False, False, False, False, False, False, False, False, False, False, False, False, False, False, False, True, False, False, False, False, True, False, False, False, False, False, False, False, False, False, False, False, False, True, False, False, False, False, False, False, False, False, True, False, False, False, False, False, False, False, False, False, False, False, False, False, False, False, False, False, False, True, False, False, False, True, False, False, False, False, False, False, True, False, False, False, False, True, False, True, False, False, False, True, True, False, False, False, False, False, False, False, False, False, False, False, False, False, False, False, False, False, False, False, False, False, True, False, False, True, False, False, False, False, False, False, False, True, False, False, False, False, False, False, False, True, False, False, False, False, False, False, False, False, False, False, False, True, False, False, False, False, False, False, False, False, False, False, False, False, False, False, True, False, False, False, False, False, False, False, False, False, False, False, False, False, True, True, False, True, False, True, False, False, False, False, False, True, False, False, False, False, False, False, False, False, False, False, False, False, False, False, False, False, False, False, True, False, False, False, False, False, False, False, False, False, False, False, True, False, False, False, False, False, False, False, False, True, True, False, True, False, False, False, False, False, False, False, False, True, False, False, False, False, True, False, False, True, False, False, False, False, False, False, False, False, False, False, True, False, True, True, False, False, False, False, False, False, False, False, False, False, False, False, False, False, True, True, True, False, False, False, False, False, False, False, True, False, False, False, False, False, False, False, True, False, False, False, True, False, False, False, False, False, False, False, False, False, False, True, False, False, True, False, False, False, False, False, True, False, False, False, False, False, False, True, False, False, False, False, False, False, True, False, False, False, True, False, False, False, False, False, False, False, False, False, False, True, False, True, False, False, False, False, False, False, False, False, False, False, False, True, False, True, False, False, True, False, False, False, False, False, False, False, False, True, False, True, False, False, False, False, False, False, False, False, False, True, False, False, True, False, False, True, False, False, False, False, False, False, False, False, False, False, False, False, False, False, True, False, True, False, False, False, False, True, False, False, True, False, True, False, False, False, False, True, True, False, False, False, False, False, False, True, True, False, False, False, False, False, False, False, False, True, False, False, False, True, False, False, False, False, False, False, False, False, False, True, False, False, False, False, False, False, False, False, True, False, False, False, True, False, False, False, False, True, False, True, False, False, False, False, False, False, False, False, False, False, False, False, True, False, True, True, True, False, True, False, False, False, True, False, False, True, False, False, False, True, False, True, False, False, False, False, False, False, False, False, False, True, False, False, False, False, False, False, True, False, False, True, True, False, False, False, False, False, False, False, True, False, False, True, False, False, True, False, False, True, True, False, True, False, False, False, False, True, False, False, False, False, True, False, False, False, False, True, False, False, False, False, False, True, False, True, True, True, False, True, False, False, False, False, False, False, False, True, False, False, True, False, True, False, False, False, False, False, False, False, False, False, False, True, False, False, True, False, False, False, True, True, True, False, False, False, False, True, False, False, False, False, True, False, False, True, True, False, True, False, False, False, False, False, False, False, True, True, True, False, False, False, False, False, False, False, False, True, False, False, False, False, True, False, False, False, False, False, False, False, True, True, False, False, False, False, True, True, True, False, False, False, False, False, False, False, False, False, False, False, True, False, False, False, False, False, False, False, False, False, False, False, False, False, False, False, False, False, False, False, False, False, False, False, True, False, True, False, False, True, False, False, True, False, False, False, False, False, False, False, False, False, False, False, True, False, False, False, False, False, False, False, False, False, False, False, False, False, False, True, False, False, False, False, True, False, False, False, False, False, False, False, False, False, False, False, False, True, False, False, True, False, False, False, False, False, False, False, False, False, True, False, False, False, False, False, False, True, False, False, False, True, False, False, False, False, False, False, False, False, False, False, True, False, True, False, False, False, False, False, False, True, False, False, False, False, False, False, False, False, False, False, False, False, False, False, False, False, False, False, False, False, False, False, False, False, False, True, False, False, False, False, False, False, False, False, False, False, False, False, False, False, False, False, False, False, False, True, False, True, True, False, False, False, True, False, False, True, True, False, False, False, False, True, False, False, False, False, False, False, False, False, False, True, False, False, False, False, False, True, False, False, False, False, False, False, False, False, False, True, False, False, False, False, False, False, True, False, False, False, True, False, False, False, False, False, False, False, False, False, False, False, False, False, False, False, False, False, False, False, False, False, False, False, False, False, False, False, False, False, False, False, False, False, False, False, False, False, False, False, False, True, False, False, True, False, False, False, False, False, False, False, False, True, False, False, False, False, False, False, False, True, False, False, False, False, False, False, False, False, False, False, False, False, False, True, False, False, False, False, False, False, False, False, True, False, False, True, False, False, False, True, False, True, False, False, True, True, False, False, False, False, False, False, False, False, True, False, False, False, False, False, True, False, False, False, True, False, False, False, True, False, False, False, True, False, True, False, False, False, False, False, False, False, False, False, False, False, False, False, False, False, False, False, False, False, False, False, False, False, False, False, False, False, False, False, True, False, False, False, False, False, False, False, True, True, False, True, False, False, True, False, False, False, False, True, False, False, False, False, False, False, False, False, False, True, False, False, False, False, False, False, False, False, False, False, False, False, False, True, False, False, False, False, False, False, False, False, False, False, True, False, False, False, False, False, True, False, False, False, False, False, False, True, True, False, False, False, True, False, False, False, False, False, False, False, False, False, False, False, True, False, True, False, False, False, False, False, False, False, False, False, False, False, False, False, False, False, True, False, True, False, False, False, False, True, True, False, False, False, True, False, False, False, False, False, True, False, True, True, True, False, False, False, True, True, True, True, False, True, False, False, False, False, False, False, False, False, False, False, False, False, False, False, False, True, False, False, False, False, False, False, True, False, True, False, False, False, False, False, False, False, False, False, False, False, False, False, False, True, True, False, False, False, False, True, False, True, False, False, False, False, False, False, False, False, True, False, False, False, False, False, False, False, False, False, False, False, False, True, False, False, False, False, False, True, False, False, False, False, False, False, False, False, False, False, False, False, True, False, True, False, True, False, False, True, False, False, False, False, False, False, False, False, False, False, False, False, False, False, False, False, False, True, False, False, True, False, False, False, False, True, False, True, False, False, False, False, False, False, True, False, False, False, False, False, True, False, False, False, False, False, False, False, False, False, True, False, True, True, True, False, True, True, False, False, False, False, False, True, False, False, False, False, False, False, True, False, False, False, False, False, False, False, False, False, False, True, False, True, False, False, False, False, False, False, False, False, False, False, False, False, True, False, True, False, False, False, False, False, True, False, False, False, False, False, False, True, True, False, True, False, False, False, True, False, False, False, False, False, False, False, False, False, False, False, True, True, False, False, False, False, False, False, True, False, False, False, False, False, False, True, False, False, False, False, False, False, True, False, False, False, True, False, False, False, False, False, False, False, False, False, False, False, False, False, False, False, False, False, False, False, False, False, False, False, False, False, False, False, True, False, False, False, False, False, False, False, False, False, False, True, False, False, False, False, True, False, False, False, True, True, False, False, False, False, False, False, False, False, False, True, False, False, False, True, False, False, False, False, False, False, False, False, True, False, False, False, False, False, False, True, False, False, True, False, True, False, False, False, False, True, False, False, False, False, False, False, True, False, False, True, False, False, False, False, False, False, False, False, True, False, False, False, False, False, False, False, False, False, True, False, True, True, False, False, False, True, True, False, True, False, False, False, False, False, True, False, True, True, True, False, False, False, False, False, False, True, True, False, False, False, False, False, False, False, False, False, False, False, False, False, False, True, False, False, False, False, False, False, False, False, False, False, False, False, False, False, False, False, False, False, False, False, True, False, False, False, False, True, False, False, False, False, False, False, False, True, False, False, True, False, False, True, False, False, False, False, False, False, False, False, True, False, False, False, False, False, False, False, False, False, False, False, False, False, False, True, False, True, False, False, False, True, False, False, False, False, False, False, False, False, False, False, False, True, False, False, True, False, False, False, True, False, False, False, False, False, True, False, False, False, False, False, False, False, False, False, False, False, False, False, False, False, False, False, False, False, False, False, False, True, True, False, False, False, False, False, False, False, False, False, False, False, False, True, False, False, False, False, False, True, False, False, False, False, True, False, True, False, False, False, False, False, False, True, True, False, False, False, False, False, True, False, False, True, False, True, False, False, False, False, False, False, True, False, False, False, False, False, False, False, False, False, False, False, False, False, False, True, True, False, True, False, False, False, True, False, False, False, False, False, False, False, True, True, False, False, False, False, False, False, False, True, False, False, False, False, False, False, True, False, False, False, False, True, False, False, False, False, False, False, False, False, True, False, False, False, False, False, False, False, False, True, False, False, False, False, False, False, False, False, False, False, False, False, False, False, False, True, False, False, False, False, False, False, False, False, False, False, False, False, False, True, True, False, True, False, False, False, False, False, False, False, True, False, False, False, False, False, False, False, False, False, False, False, False, False, False, False, True, False, False, False, False, False, True, False, False, False, False, False, True, False, False, False, False, False, True, False, False, False, False, False, False, False, False, True, False, False, False, False, False, False, False, False, False, False, False, False, False, False, False, False, False, False, False, False, False, False, False, False, False, False, False, False, False, False, False, False, False, False, False, False, False, False, False, False, False, False, False, False, False, False, True, True, False, False, False, False, True, False, False, False, False, False, False, False, False, False, False, False, False, False, True, True, False, False, False, False, False, False, False, False, False, False, False, False, False, False, False, False, False, False, False, False, False, True, False, False, True, True, False, False, False, False, False, False, False, False, False, False, True, False, False, False, False, False, False, False, False, True, False, False, True, False, False, True, False, True, True, True, False, False, False, False, False, False, False, False, False, False, False, False, True, False, False, False, False, True, False, False, False, False, True, False, False, False, False, False, False, True, False, False, True, False, False, False, True, False, True, True, True, False, True, False, False, False, False, False, False, False, False, False, False, True, False, False, False, False, False, False, False, True, False, False, False, False, False, False, False, False, True, True, False, False, False, False, True, False, False, False, False, False, False, False, False, False, False, True, False, True, False, False, True, False, False, False, False, False, False, False, False, False, False, False, False, False, False, False, False, False, False, True, False, True, True, False, False, False, False, True, False, False, False, False, False, False, False, False, False, False, False, False, False, True, False, False, False, True, False, False, False, True, False, False, False, True, False, False, False, False, False, False, True, False, False, True, False, False, False, False, False, False, False, True, True, False, False, False, False, False, False, True, False, False, True, True, False, False, False, True, False, False, False, False, True, False, False, False, False, False, False, False, False, False, True, False, False, False, False, True, False, False, True, False, False, False, False, False, False, False, False, False, False, False, False, False, False, False, True, False, False, False, True, False, False, False, False, False, False, False, False, False, False, True, False, False, False, False, False, False, False, False, False, False, False, True, False, False, False, False, False, False, False, False, False, True, False, False, False, True, True, False, True, False, True, False, True, False, False, False, False, False, False, False, False, True, False, False, False, False, False, False, False, False, False, False, False, False, False, True, False, False, False, False, False, True, False, False, False, False, False, True, True, False, False, False, False, False, False, True, False, False, False, False, False, False, False, False, False, False, False, False, False, False, False, False, True, False, False, False, False, False, False, False, False, False, False, False, True, False, False, False, False, False, True, False, True, True, True, False, True, True, False, False, True, False, False, False, False, False, True, True, False, False, False, True, False, False, False, False, False, False, False, False, False, False, True, False, False, True, False, False, False, True, False, False, False, False, False, False, False, False, False, False, False, False, False, False, False, True, False, False, False, False, False, False, True, False, False, False, False, False, False, False, False, False, False, False, False, False, True, False, False, False, False, False, True, False, True, False, False, False, False, False, False, False, True, False, False, False, False, False, True, True, False, False, False, False, False, True, True, False, False, True, True, False, False, False, False, False, False, False, False, False, False, True, False, False, False, True, False, False, False, False, False, False, False, False, False, False, False, False, False, False, False, False, False, False, False, False, False, False, False, False, False, False, False, False, False, False, False, False, False, False, True, False, False, False, False, False, False, False, False, True, False, False, True, False, False, False, False, False, True, False, False, False, False, False, False, False, False, False, False, False, False, True, False, True, False, False, False, True, False, False, True, False, False, False, False, True, False, True, False, False, False, True, False, False, False, False, False, True, False, False, False, False, False, False, False, False, False, False, True, False, False, False, True, False, True, False, False, False, False, False, False, False, False, True, False, False, True, False, False, False, True, False, True, False, False, False, False, False, False, False, False, False, False, False, False, False, False, False, False, True, False, False, False, False, False, False, False, True, False, False, False, False, False, False, False, False, True, False, False, False, True, True, False, False, False, False, False, False, False, False, False, False, False, False, False, False, True, False, False, False, True, False, True, False, False, False, False, False, False, True, False, True, False, True, False, False, False, False, False, False, False, False, False, False, False, False, False, False, False, False, False, False, False, False, False, True, False, True, False, False, False, False, False, False, False, True, False, True, False, False, False, True, False, False, False, False, False, False, False, False, True, True, True, False, False, False, False, False, True, False, False, False, False, False, False, True, False, False, False, False, False, True, False, False, False, False, False, False, True, False, False, True, False, False, False, True, False, False, False, False, True, False, True, True, False, False, False, False, False, False, False, False, False, True, False, False, False, False, True, False, False, False, False, True, False, False, False, False, False, False, False, True, False, False, False, False, False, False, False, False, False, False, False, False, False, False, False, False, False, False, False, True, False, False, False, False, True, False, False, True, False, False, False, False, False, False, False, False, True, False, False, False, False, False, False, True, False, True, False, False, False, True, True, False, True, False, False, True, False, False, False, False, False, False, False, True, False, True, False, False, False, False, False, False, True, False, False, False, False, False, False, False, True, False, True, False, False, False, False, False, False, False, False, False, False, True, True, False, False, True, False, False, False, False, False, False, False, True, False, False, False, True, False, False, True, False, False, False, False, False, True, True, False, False, False, True, False, False, False, False, False, False, False, False, False, False, False, False, False, False, False, False, False, False, True, False, False, False, False, False, False, False, False, True, True, False, False, False, False, False, False, False, False, True, True, False, False, False, False, False, False, False, False, False, False, False, False, False, False, True, False, False, False, False, False, False, False, True, False, False, False, True, False, False, False, False, False, False, True, False, False, False, False, False, True, False, False, False, False, False, False, False, False, True, False, False, False, True, True, False, False, False, False, False, False, False, False, False, False, False, False, False, False, True, False, False, False, False, False, False, True, False, False, True, False, False, False, False, False, False, False, False, False, False, False, False, False, False, False, False, True, False, False, True, False, False, False, True, False, False, True, False, False, False, False, False, False, True, True, False, True, False, False, False, False, True, True, False, False, False, False, False, False, False, False, False, False, False, False, False, False, False, False, True, False, False, False, False, False, True, False, False, False, False, False, False, False, False, False, False, False, True, False, False, False, False, False, True, False, True, False, False, False, False, True, False, False, False, True, False, False, False, False, False, True, False, False, False, False, False, False, False, False, False, False, False, True, False, False, False, False, True, False, False, False, True, True, False, False, False, False, False, False, False, False, False, False, False, False, False, False, False, True, False, False, False, False, True, True, False, False, False, False, False, False, False, False, False, False, False, False, False, False, False, False, False, True, False, False, True, False, False, False, False, False, False, False, False, False, False, False, False, False, True, False, True, True, True, False, False, True, False, True, True, True, False, False, False, True, False, False, False, False, False, False, False, False, False, False, True, False, False, True, False, False, False, False, False, False, True, False, False, True, False, False, False, False, False, True, False, False, False, False, False, False, False, False, False, False, True, False, False, True, False, True, False, False, False, False, False, False, True, False, False, False, False, True, True, True, False, True, False, False, False, False, False, True, False, False, False, False, False, False, False, False, False, False, True, False, False, False, False, False, False, False, False, False, False, False, False, False, False, False, True, False, False, False, False, False, False, False, True, True, False, False, False, False, False, False, False, False, False, False, False, False, False, False, False, False, True, False, True, True, False, False, True, False, False, False, False, False, False, False, False, False, False, True, False, False, True, True, False, False, False, False, False, False, False, False, False, False, False, False, False, False, True, False, False, True, False, False, True, False, False, False, False, False, False, False, True, False, False, False, False, False, False, False, False, False, False, False, False, False, False, False, False, False, False, False, False, False, False, False, False, False, True, False, False, True, False, False, False, False, False, False, False, False, False, False, False, False, False, False, False, False, True, False, False, False, False, True, False, False, False, False, False, False, False, False, False, False, False, False, False, True, False, False, False, False, False, False, False, False, True, False, False, False, False, False, False, False, False, False, False, False, False, False, False, True, False, False, False, False, False, False, True, True, False, False, False, False, False, False, False, False, False, False, False, False, False, False, False, False, True, False, False, False, True, True, False, False, False, False, False, False, False, False, False, False, False, False, False, False, False, False, False, False, True, False, False, True, False, True, False, False, False, False, False, False, False, True, True, False, True, False, False, False, False, False, False, False, False, True, False, True, False, False, False, False, False, False, False, False, False, False, False, False, False, True, False, False, False, False, False, False, False, False, False, False, False, False, False, False, True, False, False, False, False, False, False, False, False, True, False, False, False, True, False, False, False, True, False, False, False, False, True, False, False, False, True, False, False, True, False, False, False, False, False, False, False, False, False, True, False, True, False, False, False, False, False, False, False, False, False, False, True, True, False, False, False, False, False, False, False, False, False, False, True, False, False, False, False, False, False, False, False, False, False, False, False, False, False, False, False, False, False, False, False, False, False, False, False, False, False, False, False, True, True, False, False, False, False, False, False, False, False, False, False, False, False, False, True, False, True, False, True, False, False, False, False, False, False, False, False, False, False, True, False, False, False, False, False, True, False, False, False, True, False, True, False, False, False, False, False, False, False, False, False, False, False, False, False, False, False, False, False, False, False, False, False, False, False, False, False, False, True, True, False, False, False, True, False, False, False, False, False, False, True, False, False, False, False, False, False, False, False, False, False, False, False, False, False, False, False, False, False, False, False, True, False, False, True, True, False, False, False, False, False, False, False, False, False, False, False, False, False, False, False, False, False, True, False, False, False, False, False, False, False, False, False, False, False, False, False, False, True, False, True, False, False, False, False, False, False, False, False, False, False, False, False, False, False, True, True, False, False, False, True, False, False, True, False, False, False, False, False, False, False, False, True, False, False, False, False, False, False, False, False, True, False, True, True, False, False, False, False, False, False, False, False, False, True, True, False, False, False, True, False, False, False, False, False, False, False, False, True, False, False, True, False, False, False, False, False, False, False, False, False, False, False, True, True, False, False, False, False, False, False, False, False, False, False, False, False, False, False, False, True, False, False, False, False, True, False, False, False, False, False, False, False, False, False, False, False, False, False, True, False, True, False, False, False, True, False, False, False, False, False, False, True, False, True, False, False, True, False, False, False, False, False, False, False, False, False, False, False, False, False, False, False, False, True, False, False, False, False, False, False, False, False, False, False, False, False, False, False, True, False, False, False, False, False, False, False, False, False, False, False, False, False, False, False, True, False, False, False, False, False, False, False, False, False, False, False, False, True, False, False, False, False, False, False, False, True, False, False, False, False, False, False, False, False, True, True, True, False, False, False, False, False, False, False, True, False, False, False, False, False, False, False, False, False, False, False, False, False, False, False, False, False, False, True, False, False, False, False, False, True, False, False, False, True, False, True, False, True, False, False, False, True, False, False, True, True, True, False, False, False, False, False, True, False, False, False, False, False, False, False, False, False, False, False, False, False, False, True, False, False, False, False, False, False, False, False, False, False, False, True, False, False, True, False, False, False, False, True, True, False, False, False, False, False, False, False, False, True, False, False, False, False, False, False, False, False, False, False, False, False, False, False, False, False, True, False, False, False, False, False, True, False, False, False, False, False, False, False, False, True, False, False, False, True, False, False, False, False, False, False, False, False, False, False, False, False, True, False, False, True, False, False, False, False, False, False, False, True, True, False, True, False, False, False, False, False, True, True, False, True, False, False, False, False, False, False, False, False, False, False, True, False, False, False, True, False, False, True, False, False, False, False, False, False, False, True, False, False, False, False, False, False, False, False, False, False, True, False, False, True, False, False, False, True, True, False, False, False, True, False, False, False, False, False, False, False, False, True, True, False, False, False, False, False, False, False, False, False, True, False, False, False, False, False, False, False, False, False, False, True, False, False, True, False, False, False, True, True, False, False, True, True, False, False, False, False, False, False, False, False, True, False, False, False, False, True, False, False, False, False, False, False, False, False, False, False, False, False, False, False, False, False, False, False, False, False, False, False, False, False, True, False, False, False, False, False, False, False, False, False, False, True, False, False, True, True, False, False, False, True, True, False, False, False, False, True, False, True, False, False, False, False, False, False, False, False, False, False, False, False, False, False, False, True, False, False, False, False, False, False, False, False, False, False, False, False, False, False, False, False, False, False, False, False, False, False, True, False, False, True, False, False, False, False, True, False, False, False, False, True, True, False, True, False, False, False, False, False, False, True, True, False, False, False, False, False, True, True, False, False, False, False, False, False, True, False, False, False, False, False, False, False, False, False, False, False, False, False, False, True, False, False, False, False, False, False, False, False, False, False, False, False, False, False, False, False, False, False, False, False, True, False, False, False, True, False, False, False, False, True, False, True, False, False, True, False, True, False, False, True, True, True, False, False, False, True, False, False, False, True, False, False, True, False, False, False, False, False, False, False, False, False, False, True, False, False, False, False, False, False, False, False, False, False, False, False, False, False, False, False, False, False, False, True, False, True, False, False, False, False, False, False, False, False, False, True, False, False, False, False, True, False, False, False, False, False, False, False, False, False, False, False, False, True, True, False, False, False, True, True, False, False, False, False, True, False, True, True, False, False, True, False, False, False, False, False, False, False, False, False, False, False, False, False, False, False, False, False, True, False, False, False, False, False, False, False, False, False, False, False, False, False, False, False, False, True, False, False, False, True, False, False, False, False, False, False, False, True, False, True, False, False, True, False, False, False, False, False, True, False, False, True, True, False, False, False, False, False, False, False, True, False, False, False, False, False, True, False, False, False, False, False, False, False, False, False, False, False, False, False, False, False, False, False, False, False, False, False, True, False, False, False, False, True, False, False, False, False, False, False, False, False, False, False, False, False, True, True, False, False, True, False, False, True, False, False, False, False, False, False, False, False, False, False, False, True, True, False, True, False, False, True, False, False, False, False, False, False, False, False, False, False, False, True, True, False, False, False, False, True, False, False, False, True, False, False, True, False, True, False, False, True, False, False, False, False, True, False, False, False, False, False, False, False, True, False, False, False, False, False, False, False, True, False, False, False, False, False, False, False, True, False, False, False, False, False, True, False, False, False, False, False, False, False, False, False, True, False, False, False, False, False, False, False, False, True, True, True, True, False, False, False, False, True, False, False, False, False, False, False, False, False, False, False, False, False, True, False, True, False, False, True, False, False, False, False, True, True, True, False, True, False, False, True, False, True, False, False, False, False, False, False, False, False, False, True, False, False, True, False, False, False, False, False, False, False, False, True, False, False, False, False, True, False, True, True, False, False, False, False, False, False, False, False, False, False, False, False, False, False, False, False, False, False, False, False, False, True, False, False, False, False, False, False, False, False, False, False, False, True, False, False, False, True, False, False, False, False, False, False, False, False, False, False, False, False, False, False, False, False, False, False, False, False, False, True, False, False, False, False, False, False, False, True, False, False, False, False, False, False, False, False, False, True, False, False, False, False, True, False, False, False, False, False, False, True, False, False, False, True, False, False, True, False, False, False, False, False, True, False, False, True, False, True, False, False, True, False, False, False, False, False, False, True, False, False, False, False, False, False, False, False, False, False, False, False, False, False, False, False, True, False, False, False, False, False, False, False, False, False, False, False, False, False, False, False, False, True, True, False, False, False, False, False, False, False, False, False, False, False, False, False, False, False, True, True, False, False, False, True, False, False, True, False, False, False, False, False, False, True, False, False, False, False, True, False, False, False, False, False, False, False, False, False, False, False, True, False, False, False, False, False, False, False, False, True, False, False, False, False, False, True, True, False, False, True, True, False, False, False, False, True, False, False, False, False, False, False, True, False, False, False, False, True, False, True, False, False, False, False, False, False, True, False, False, False, False, False, False, False, False, False, False, False, True, False, False, False, False, True, True, False, False, False, False, False, False, False, False, False, False, False, False, False, False, True, True, False, False, False, False, False, False, False, False, False, False, False, False, False, False, False, False, False, False, False, False, False, False, True, False, False, False, False, False, False, False, False, False, False, False, False, False, False, False, False, False, False, False, False, False, False, False, False, False, False, False, False, True, False, False, False, False, False, False, False, True, False, False, False, False, False, True, False, True, False, True, True, False, False, False, False, False, False, True, False, False, False, True, True, False, False, False, False, True, False, False, False, False, True, False, False, False, False, False, False, False, False, False, False, False, True, False, False, False, False, False, False, False, False, False, False, False, False, False, False, False, False, False, True, False, True, False, False, False, False, False, False, False, False, False, False, False, True, False, True, False, False, False, False, False, False, False, False, False, False, True, False, False, False, True, False, False, False, False, False, False, True, False, False, False, False, False, False, True, False, False, False, True, False, False, False, False, False, False, False, True, True, False, False, False, False, False, False, False, False, False, False, False, True, False, False, True, False, False, False, True, False, False, False, False, False, False, False, False, False, False, False, False, False, False, False, False, False, False, True, False, False, False, True, False, False, True, False, True, True, True, False, False, False, False, False, False, False, False, False, False, True, True, True, False, True, False, False, True, False, False, False, False, False, True, False, False, False, False, True, False, False, False, True, False, False, False, False, False, False, True, False, False, False, False, True, False, False, False, False, False, False, False, False, False, False, False, False, False, False, False, False, False, True, False, False, False, False, False, False, False, False, False, False, False, False, False, False, False, False, True, True, False, True, False, False, False, False, False, False, False, False, False, False, True, False, False, False, False, False, False, False, False, False, False, False, True, False, True, False, False, False, False, False, True, False, False, False, False, False, False, False, False, False, False, False, False, False, False, False, False, False, True, True, False, False, False, False, False, False, False, False, False, False, False, False, False, False, False, False, False, False, True, False, False, False, False, False, False, False, False, False, False, False, False, False, True, False, False, False, False, True, False, False, False, False, False, False, False, False, False, False, False, False, False, True, False, True, False, False, False, False, False, False, False, False, True, True, False, False, True, False, True, True, True, False, False, False, False, False, False, False, False, False, False, False, False, True, True, False, False, False, True, False, True, False, False, False, False, True, False, False, False, True, False, False, False, True, False, False, False, False, False, False, False, False, False, False, True, False, False, False, False, True, False, False, True, False, False, False, False, False, False, False, False, False, False, False, True, False, True, False, False, False, False, False, False, True, False, True, False, False, False, False, False, False, False, True, True, True, False, False, False, False, False, False, False, False, False, False, False, False, False, True, False, False, False, False, False, False, False, False, False, False, False, False, False, False, True, False, False, False, False, False, False, False, True, False, False, False, False, False, True, False, False, False, False, False, False, False, False, False, False, True, True, False, False, True, True, False, True, False, False, False, False, True, False, False, False, False, False, False, False, False, False, False, False, False, False, False, False, False, False, False, False, False, False, False, False, False, True, False, True, False, False, False, False, False, False, True, False, False, False, False, True, False, False, False, False, False, False, False, True, False, False, True, False, False, False, False, False, False, True, False, False, True, False, False, False, False, False, False, False, False, False, False, False, False, False, False, False, False, False, False, False, True, True, False, False, True, False, False, False, True, True, False, False, False, True, False, False, False, False, False, False, True, False, True, False, False, False, False, False, False, False, True, False, False, False, True, False, False, False, False, False, False, False, False, False, False, False, False, False, True, False, False, False, False, False, False, False, False, False, False, False, False, True, False, False, False, False, False, False, False, False, False, False, False, False, True, True, False, False, False, False, False, False, True, False, False, False, True, False, True, False, True, False, False, False, False, False, False, False, False, False, True, True, False, False, False, False, False, False, False, False, True, False, False, False, False, False, False, False, False, False, False, False, False, False, False, False, False, False, False, False, True, False, False, False, False, True, True, True, False, False, False, False, False, False, False, False, False, False, False, False, True, False, True, False, False, False, True, False, False, False, True, False, True, False, False, False, False, True, False, False, True, False, True, False, False, False, False, False, True, False, True, True, False, False, False, False, False, False, False, False, False, False, False, False, False, True, False, False, False, False, False, False, False, False, False, False, False, False, False, False, False, False, False, True, False, False, False, False, False, True, False, False, False, False, False, False, True, False, False, False, False, False, False, False, False, True, False, True, False, False, False, False, False, False, False, False, False, False, False, False, False, False, False, False, True, False, False, False, False, False, False, False, False, False, True, False, False, False, True, False, False, False, False, False, True, True, False, False, False, False, False, False, False, False, False, False, False, False, False, False, True, True, True, False, False, False, False, False, False, False, False, False, False, False, False, False, True, False, True, False, False, False, False, False, False, False, False, False, False, False, True, False, False, False, False, False, True, False, False, False, True, False, False, False, False, False, True, False, False, False, False, False, False, False, False, False, True, False, True, False, False, True, False, False, True, False, False, False, True, False, False, True, False, False, False, False, False, False, False, False, False, False, False, False, False, False, False, False, False, False, False, False, True, False, False, False, False, False, False, False, False, False, False, False, True, False, False, False, False, False, True, False, False, False, False, False, False, False, False, False, True, False, False, False, False, False, False, False, False, False, False, False, False, False, False, True, False, False, True, False, False, False, False, False, False, False, True, False, False, False, False, False, False, False, False, False, False, False, False, False, True, False, False, False, False, False, False, False, False, True, False, False, False, False, False, False, False, False, False, False, True, False, False, False, False, False, False, False, True, False, False, False, False, True, False, False, False, False, True, False, False, False, False, False, False, False, False, False, False, False, False, False, False, False, False, False, False, False, False, False, False, False, False, False, False, False, False, True, False, False, False, False, False, False, False, False, False, False, False, False, False, False, False, False, False, False, True, False, False, False, False, False, False, False, False, False, False, False, True, False, False, False, False, False, False, False, False, False, False, False, False, False, False, False, False, False, False, False, False, False, False, False, False, True, False, False, False, True, False, False, False, False, False, False, False, False, False, False, False, False, False, False, True, False, False, False, False, True, False, False, False, False, False, False, False, False, False, False, False, False, False, True, False, False, False, False, False, False, False, False, False, False, False, False, False, False, False, False, False, False, False, False, False, False, False, False, False, False, False, False, False, False, False, False, False, False, True, False, False, False, False, False, False, False, False, False, False, False, False, False, False, False, False, False, False, True, False, False, True, False, True, True, False, False, False, False, False, False, True, False, False, False, False, False, False, False, False, False, False, True, False, True, False, True, False, False, False, False, True, False, True, False, True, False, False, False, True, False, False, False, True, False, False, True, False, False, False, False, False, False, True, True, False, False, True, False, False, False, False, False, False, False, False, False, True, False, False, False, False, False, False, False, False, False, False, False, False, False, False, False, False, False, False, False, False, False, False, False, False, False, False, False, False, False, False, False, False, False, False, False, False, False, False, False, False, False, False, False, False, True, False, True, False, False, False, True, False, False, False, False, False, False, False, False, True, False, False, True, False, False, False, False, False, True, False, False, False, False, True, False, False, False, False, False, False, False, False, False, False, False, False, False, False, False, False, False, True, False, False, False, True, False, True, False, False, True, False, False, False, False, False, False, False, False, True, True, False, False, False, False, False, False, True, False, False, False, True, False, False, False, True, False, False, False, True, True, False, False, False, True, False, False, False, False, False, False, False, False, False, False, False, False, True, False, False, False, False, False, False, False, False, False, False, False, False, False, False, True, False, True, True, False, True, False, True, False, False, False, False, False, False, False, False, False, False, False, True, False, True, False, False, False, True, False, False, True, False, False, False, False, False, False, False, True, False, False, False, True, False, True, False, False, False, False, False, False, False, False, False, False, False, False, False, False, True, False, False, False, False, False, False, False, False, False, False, False, False, False, False, False, False, False, False, False, False, False, False, False, False, False, False, False, True, False, False, True, False, False, False, False, False, False, False, False, False, False, False, False, False, True, False, False, True, False, False, False, False, False, False, False, False, False, False, True, False, False, True, False, False, False, False, False, False, False, False, False, False, True, True, False, False, False, False, False, False, False, False, False, False, False, False, False, False, False, False, False, False, True, False, False, True, True, False, True, False, False, False, False, False, False, False, True, False, False, False, False, False, True, False, False, False, False, False, False, False, False, False, False, True, False, False, False, False, True, False, True, False, False, False, False, False, False, False, False, False, False, False, False, False, True, False, False, False, False, False, True, True, False, False, False, False, False, True, False, False, False, False, False, False, False, False, True, False, False, False, False, False, False, False, False, False, False, False, False, False, False, False, False, False, True, False, False, False, False, False, False, False, False, False, False, False, False, False, False, False, False, False, True, False, False, True, False, False, False, False, False, True, False, False, False, False, False, False, False, False, False, False, False, True, False, False, False, True, False, False, False, False, False, False, False, False, False, False, False, False, False, False, False, False, True, False, False, False, False, True, True, True, False, False, False, True, True, False, False, False, False, False, True, False, False, False, False, False, False, False, True, False, False, False, False, False, False, True, False, False, False, False, False, False, False, True, False, False, False, False, False, False, False, False, False, False, False, True, False, False, False, False, False, False, False, False, False, False, False, False, False, False, False, False, True, False, True, True, False, False, False, False, False, False, False, True, False, False, False, False, False, False, False, False, False, False, False, False, False, False, False, True, False, True, False, True, False, False, False, False, False, False, False, True, False, False, False, False, False, False, False, True, False, False, False, False, False, False, False, True, False, False, False, False, False, True, True, True, False, False, True, True, False, False, True, False, False, False, False, False, False, False, False, False, False, False, False, False, False, True, False, False, False, False, False, True, False, False, True, True, False, False, False, False, False, False, False, False, False, False, True, False, False, False, False, False, False, False, False, True, False, False, False, True, False, False, False, False, False, False, False, False, False, True, False, False, False, False, False, False, True, False, False, True, False, False, False, False, False, True, False, False, True, True, False, True, False, False, False, True, False, False, False, False, False, False, False, True, True, False, False, False, False, False, False, False, False, False, False, False, True, False, False, False, False, False, False, False, False, False, False, False, False, False, False, False, False, False, True, False, False, True, False, False, False, False, False, False, False, False, True, False, False, False, False, False, True, False, False, False, False, False, False, False, False, False, False, False, True, False, False, False, True, False, False, False, False, False, False, False, False, False, False, False, False, False, False, False, False, False, False, False, True, False, False, False, False, False, False, False, False, False, False, False, True, True, False, False, False, False, True, False, False, False, False, False, False, True, False, False, True, False, False, False, False, False, False, False, False, False, False, False, False, False, False, False, False, False, False, False, False, False, False, False, False, False, False, False, False, False, False, False, False, True, False, False, False, False, True, False, True, False, False, False, False, False, True, False, False, False, False, False, False, False, True, False, False, True, False, False, True, False, False, False, False, False, True, False, False, False, False, False, False, False, False, False, False, False, False, False, False, False, True, True, True, False, False, False, False, False, False, False, False, False, False, False, False, False, False, False, False, False, False, False, False, False, False, False, False, False, False, True, False, False, False, False, False, False, False, False, False, False, False, False, False, False, False, False, False, False, False, True, False, False, False, True, False, False, False, False, True, False, False, False, False, False, False, False, False, False, False, False, True, False, False, False, False, True, False, False, True, False, False, False, False, True, False, True, True, False, False, False, False, False, True, False, False, False, False, False, False, True, False, True, False, True, False, True, False, False, False, True, False, False, False, False, False, False, False, True, False, True, False, False, False, False, False, False, False, False, False, False, False, False, True, False, False, False, False, False, False, False, True, False, False, False, False, False, True, False, True, False, False, False, False, False, False, True, False, False, False, False, False, False, False, True, False, False, False, False, True, False, False, False, True, False, False, False, True, False, False, False, False, False, False, False, True, False, False, True, False, False, False, False, False, False, False, False, True, False, False, True, False, False, False, True, False, False, True, False, True, False, False, False, True, False, False, False, False, False, False, False, True, False, False, False, False, False, False, False, False, False, False, False, False, False, False, False, False, False, False, False, False, False, False, True, False, True, False, False, False, False, False, False, False, True, False, False, False, False, False, False, False, False, False, True, False, False, False, False, False, True, False, False, True, False, True, False, False, False, False, False, False, False, False, False, False, False, False, False, False, False, False, False, False, False, False, True, False, False, False, False, False, False, False, False, True, False, False, False, False, False, False, False, True, False, False, False, False, False, False, False, False, False, True, True, False, False, False, False, False, False, False, False, False, False, False, False, True, True, False, False, True, False, True, False, False, True, False, False, False, False, False, False, False, True, False, False, False, False, False, False, False, True, False, False, False, False, False, False, False, False, False, False, False, False, False, False, False, False, False, False, False, False, True, False, False, False, False, False, True, True, True, False, False, False, False, False, False, False, False, True, False, False, False, True, False, False, False, True, False, False, False, False, True, False, False, False, False, False, False, False, False, True, False, True, True, False, False, True, False, False, False, False, False, False, True, False, False, False, False, True, False, True, False, False, False, True, False, False, False, False, False, False, True, False, False, True, True, False, False, False, False, False, True, True, True, False, False, True, False, False, False, False, True, True, False, False, True, False, False, True, False, False, False, False, False, True, False, False, False, False, False, False, False, False, False, False, False, False, False, False, False, False, True, False, False, False, False, False, False, False, False, False, True, False, False, False, False, False, True, False, False, False, False, False, True, False, False, False, False, False, False, False, False, False, True, False, False, False, False, False, True, False, False, False, True, False, False, True, False, False, True, False, False, False, False, False, False, False, False, False, False, False, False, True, False, False, False, False, False, False, False, False, False, False, False, False, False, True, False, False, False, False, False, True, False, True, False, True, True, True, False, False, False, False, False, False, False, True, False, False, False, False, False, False, False, False, False, False, False, False, False, True, False, False, False, False, False, False, False, False, False, False, False, False, False, False, False, False, True, False, False, False, False, False, True, False, True, True, False, False, False, False, False, False, False, False, True, False, False, False, True, False, True, False, False, False, False, False, False, False, False, False, False, False, False, True, False, True, False, False, False, True, False, False, False, False, False, False, False, False, False, False, False, False, False, False, True, False, False, False, True, True, False, True, False, False, False, False, False, False, False, True, False, False, False, False, True, True, False, False, False, False, False, False, False, False, False, False, False, False, False, False, False, False, False, False, False, True, False, False, False, False, False, False, False, False, False, True, False, False, False, False, False, False, False, False, False, False, False, False, True, False, False, True, True, True, False, False, False, False, False, False, False, False, False, True, False, True, False, True, False, False, False, False, True, False, False, True, False, False, False, False, False, False, False, True, False, False, False, False, False, False, False, False, False, False, False, False, False, False, True, False, False, True, False, False, False, False, False, False, False, False, False, False, True, True, False, False, False, False, False, False, False, True, False, False, False, False, False, False, True, False, False, False, False, False, False, True, False, False, True, False, False, False, False, True, False, False, False, False, False, False, False, False, True, True, False, False, False, False, False, True, False, False, False, False, False, False, False, False, False, False, False, False, False, False, False, False, False, False, False, False, True, False, False, False, False, False, False, True, False, False, False, False, False, False, False, False, False, False, False, False, True, False, False, True, False, False, False, False, False, False, False, False, False, False, False, False, False, False, False, False, False, False, False, False, False, False, False, True, False, False, False, True, False, False, False, False, False, True, False, False, False, False, False, False, False, False, False, False, True, False, False, False, True, False, False, False, False, False, False, False, False, False, False, False, False, False, False, False, False, True, False, False, False, False, False, False, True, False, False, False, False, False, False, True, False, False, False, False, True, False, False, False, False, True, False, False, False, False, False, False, False, False, False, False, True, False, True, False, False, False, True, False, False, False, False, False, False, False, False, False, True, False, False, True, False, False, False, False, True, False, False, False, False, False, False, False, False, False, False, False, True, False, False, True, False, False, False, False, False, False, False, False, True, False, False, False, False, False, False, False, False, False, False, False, False, False, False, False, True, True, False, False, False, False, False, False, False, False, False, False, True, False, False, True, False, False, False, True, False, False, False, False, False, False, False, False, False, True, False, False, True, False, False, True, True, False, False, False, False, False, False, False, False, False, False, False, False, False, False, False, False, False, False, False, True, False, False, False, True, False, False, False, False, False, False, False, False, False, False, False, False, False, False, False, True, False, True, False, False, False, False, False, False, True, False, False, True, False, False, False, False, False, False, True, False, False, False, False, False, False, False, False, True, False, False, False, False, False, False, True, True, True, True, False, False, False, False, False, False, False, False, False, False, False, True, True, True, False, False, False, False, False, True, True, False, False, False, False, False, False, False, False, True, False, False, False, False, False, False, True, False, False, False, False, True, False, False, False, False, False, False, False, False, False, False, False, False, False, False, False, False, False, False, False, False, True, False, False, True, False, False, False, False, True, False, False, False, False, False, False, False, False, False, False, True, False, False, False, False, False, False, False, False, False, False, False, False, False, False, False, False, False, False, False, True, False, False, False, False, False, True, False, False, False, True, False, False, False, False, True, False, False, False, False, False, False, False, False, False, False, False, False, False, False, False, False, False, True, True, False, False, False, False, False, False, False, False, True, False, True, False, False, False, False, False, False, False, False, False, False, False, False, True, False, False, False, False, False, False, False, False, False, False, False, False, False, False, False, False, True, False, False, False, False, False, False, False, True, False, False, False, False, True, False, False, False, False, False, False, False, False, False, False, False, False, False, True, False, False, False, False, False, True, False, True, False, False, False, False, False, False, False, False, False, False, False, False, False, False, True, False, False, True, False, False, False, False, False, False, False, False, False, False, False, False, False, False, False, False, False, True, False, False, False, False, False, False, True, False, False, False, False, False, False, False, False, False, False, False, False, False, False, False, False, False, True, False, False, False, False, True, False, False, False, False, False, False, False, False, True, False, False, False, False, False, False, False, False, True, False, False, False, False, False, False, False, True, False, False, False, True, False, False, False, False, False, False, False, False, False, False, False, False, False, False, False, False, False, False, True, True, False, True, False, False, False, False, False, False, False, False, False, True, False, False, True, False, False, True, False, False, False, False, False, False, False, False, False, True, True, False, False, True, False, False, False, False, False, False, False, True, False, False, False, False, False, False, False, True, False, False, False, False, False, False, False, False, False, False, False, False, False, False, False, False, False, False, False, False, True, False, False, False, True, False, False, False, False, False, False, False, False, False, True, True, False, False, False, False, False, False, False, False, False, False, False, False, False, False, True, False, True, False, False, False, False, False, False, False, False, False, False, False, False, False, False, True, False, False, False, False, False, False, False, False, False, False, False, False, False, False, False, False, False, False, False, False, False, False, False, False, True, False, False, True, False, False, False, True, True, True, False, False, False, False, False, False, False, True, False, False, True, False, False, True, True, True, True, False, False, False, False, False, True, False, False, False, True, False, False, False, False, False, False, True, False, False, False, False, False, False, False, False, False, False, False, True, False, False, False, False, False, False, False, True, False, False, False, False, False, False, False, False, True, False, False, False, False, True, False, False, True, False, False, False, False, False, False, True, False, False, True, False, False, False, False, False, False, False, False, False, False, False, True, False, False, False, False, False, False, True, False, True, False, False, False, True, False, False, True, False, False, False, False, False, False, False, False, False, False, False, True, False, True, False, False, False, False, False, False, False, False, False, False, False, False, False, False, False, False, False, False, False, True, False, True, False, False, False, False, False, True, False, True, False, False, False, False, False, False, False, False, False, False, False, False, False, True, False, False, False, False, False, False, False, True, True, False, True, False, False, True, False, False, False, False, False, True, False, True, False, False, False, False, False, True, False, False, False, False, True, False, True, True, False, False, False, False, False, False, True, False, False, False, False, False, False, False, False, False, False, False, False, False, True, False, False, False, False, False, False, False, False, False, False, False, False, False, False, False, False, False, False, False, False, False, False, False, False, False, False, True, False, True, False, False, False, False, False, False, False, False, False, False, False, False, False, False, False, False, False, False, False, False, True, False, False, False, False, False, False, False, False, False, False, True, False, True, False, False, False, False, False, False, False, False, True, False, False, False, False, False, False, False, False, False, True, False, True, False, False, False, False, False, False, False, False, False, False, False, False, False, True, False, False, False, False, False, False, False, False, False, False, False, True, True, False, False, False, False, False, False, False, False, False, False, False, False, False, False, False, False, False, True, False, False, False, False, False, False, False, True, False, False, False, False, False, False, False, False, False, False, False, False, False, False, False, False, True, False, False, False, False, False, False, False, False, False, False, False, False, False, False, False, False, False, False, False, False, False, False, False, False, False, False, False, False, False, True, False, False, False, False, False, False, True, False, False, False, False, False, False, False, False, False, False, True, False, True, False, False, False, False, True, False, False, False, False, False, False, False, False, False, True, False, False, True, False, False, False, False, False, False, False, False, False, False, False, False, False, False, False, False, False, False, False, False, False, False, False, False, False, False, False, False, False, False, False, False, False, False, True, False, False, False, False, True, False, False, False, False, True, True, True, False, True, False, False, True, False, False, False, False, False, False, True, False, False, False, False, False, False, False, False, False, False, False, False, True, False, True, False, False, False, False, False, True, False, False, False, False, False, False, False, True, False, True, False, True, False, False, False, False, False, False, False, False, False, False, True, False, False, False, False, False, False, False, False, False, True, False, False, False, False, False, True, False, False, False, False, True, False, False, False, True, False, False, False, True, False, False, True, True, True, False, False, False, True, False, True, False, False, False, True, False, False, False, True, True, False, False, False, False, False, False, False, False, False, True, False, False, False, False, False, False, False, True, False, False, False, False, False, False, False, True, True, False, False, False, False, False, False, False, False, False, False, False, False, True, False, True, False, True, False, False, False, True, False, False, True, False, False, True, False, False, False, False, False, False, False, False, False, False, True, False, False, False, False, True, False, False, True, False, False, False, True, True, False, False, False, False, False, True, False, False, True, False, False, False, False, False, False, False, False, False, True, False, False, True, False, True, True, False, False, False, False, True, False, False, False, False, False, False, False, False, False, False, False, False, False, False, False, False, True, False, False, False, False, False, False, False, True, False, False, False, False, False, False, True, False, True, False, False, False, False, False, False, False, False, True, False, False, False, False, False, False, False, True, False, False, False, True, False, False, False, True, False, False, False, False, False, False, True, False, False, False, False, False, False, False, True, False, False, False, False, True, True, False, False, False, False, False, False, False, False, False, False, False, False, False, False, False, False, False, False, False, False, False, False, True, False, False, False, False, True, False, False, False, False, False, False, False, False, False, False, False, False, False, False, False, False, False, False, False, True, False, False, False, False, False, False, False, False, False, False, True, False, False, False, False, False, False, False, False, False, True, False, False, True, True, False, False, False, False, False, False, False, True, False, False, False, False, False, False, False, False, False, False, False, False, False, False, False, False, True, False, False, False, True, False, False, False, True, False, False, False, False, True, False, True, False, False, False, False, False, False, False, False, False, False, False, False, False, False, False, False, False, False, False, False, False, False, False, False, False, False, False, False, True, False, False, False, True, False, False, False, False, False, False, False, False, False, False, False, False, False, False, True, False, False, False, False, False, False, False, False, False, True, False, True, False, False, False, False, False, False, False, False, False, False, False, False, False, False, False, False, False, False, False, False, False, False, False, False, False, True, False, False, True, False, False, False, False, False, False, False, False, True, True, False, True, False, False, False, False, False, False, False, False, False, False, False, False, False, False, False, True, False, False, False, False, False, True, False, False, False, False, False, True, True, False, False, False, True, False, False, False, True, False, False, False, False, False, True, False, False, False, False, False, False, False, False, True, False, True, False, True, False, True, False, False, False, False, False, False, False, False, False, False, False, False, False, False, False, False, False, False, True, True, False, False, False, False, False, False, False, False, False, False, False, False, False, False, False, False, False, False, False, True, False, False, False, False, False, False, False, False, False, False, False, False, False, False, False, False, True, False, False, False, False, True, False, False, False, False, False, True, False, True, False, False, False, False, False, False, False, False, False, False, False, False, False, False, False, False, False, False, False, False, True, False, False, False, False, False, False, True, False, False, False, True, True, False, False, False, False, False, False, True, False, False, False, False, False, False, False, True, False, False, False, True, False, False, False, False, False, False, False, True, False, False, True, False, False, False, False, True, False, False, True, False, False, True, False, False, False, False, True, True, False, False, False, True, False, False, False, False, False, True, True, False, False, False, False, True, False, True, False, False, False, False, False, False, False, False, True, False, False, False, False, True, False, False, False, False, True, False, False, False, False, False, False, False, True, False, False, False, False, False, False, True, False, False, False, False, False, False, False, False, False, False, True, False, False, False, False, False, True, False, False, False, True, False, True, True, False, False, False, False, False, False, False, False, False, False, False, False, True, False, False, False, False, False, False, False, False, False, False, True, False, True, False, False, False, False, False, False, False, True, False, False, False, False, False, False, False, False, False, False, False, False, False, True, True, False, True, False, False, False, False, False, False, True, False, False, False, False, False, False, False, False, False, False, False, False, True, False, False, False, False, False, True, False, False, False, False, False, False, True, False, False, False, False, False, False, False, False, False, False, False, False, True, False, False, False, False, False, True, False, False, False, False, False, False, False, False, False, False, True, False, False, False, False, False, False, False, False, False, False, False, False, False, False, True, True, False, False, False, False, False, False, False, False, False, False, False, False, True, False, True, False, False, False, False, False, False, False, False, True, False, False, False, False, False, False, True, False, False, False, False, False, True, True, False, False, False, False, False, False, False, False, False, False, False, False, True, False, False, False, True, False, False, False, True, True, False, False, False, False, False, False, False, False, False, False, True, False, False, False, False, True, False, False, False, False, False, False, False, True, False, False, False, False, False, False, False, False, False, False, False, False, False, False, False, False, False, True, False, False, False, False, False, False, False, False, False, False, False, False, False, False, False, False, False, False, False, False, True, False, False, False, False, True, False, False, False, False, False, False, False, False, False, False, False, False, True, False, True, False, True, False, False, False, False, False, False, False, False, False, True, True, False, False, False, False, False, False, False, False, False, False, False, True, False, False, False, False, False, True, False, False, False, False, False, False, False, False, False, False, False, False, False, False, False, True, False, False, False, False, False, False, False, False, True, True, False, False, False, False, False, True, False, False, False, False, False, False, False, True, False, False, False, False, False, False, False, False, False, False, False, False, False, False, False, False, False, False, False, False, False, False, False, True, False, False, False, False, False, False, True, False, False, True, False, False, False, False, False, False, False, False, False, False, True, False, False, True, False, False, False, True, True, False, False, False, False, False, True, True, False, False, False, False, False, False, False]\n",
            "[7, 8, 10, 13, 14, 22, 23, 30, 37, 38, 47, 48, 51, 52, 54, 55, 57, 59, 62, 70, 73, 75, 80, 83, 86, 115, 116, 124, 128, 133, 135, 136, 142, 145, 147, 148, 155, 156, 165, 167, 172, 175, 182, 185, 188, 189, 190, 192, 195, 197, 198, 209, 212, 217, 221, 224, 227, 231, 234, 237, 246, 250, 251, 255, 259, 262, 266, 269, 277, 279, 280, 286, 287, 306, 314, 328, 330, 332, 341, 347, 352, 354, 356, 357, 361, 367, 371, 373, 378, 382, 397, 399, 401, 408, 425, 426, 442, 444, 446, 447, 449, 452, 462, 464, 469, 473, 474, 476, 480, 493, 498, 511, 516, 519, 543, 554, 556, 567, 581, 582, 589, 595, 597, 601, 606, 612, 620, 622, 625, 630, 634, 653, 656, 669, 676, 679, 692, 694, 699, 701, 712, 715, 720, 722, 724, 725, 726, 727, 729, 730, 733, 738, 751, 774, 783, 792, 793, 812, 816, 818, 821, 823, 824, 837, 843, 844, 848, 854, 855, 856, 871, 874, 877, 884, 892, 893, 897, 899, 902, 905, 912, 919, 927, 938, 956, 962, 979, 980, 989, 991, 993, 997, 999, 1002, 1010, 1013, 1019, 1027, 1029, 1048, 1059, 1070, 1074, 1081, 1084, 1093, 1098, 1108, 1110, 1111, 1114, 1122, 1126, 1128, 1132, 1133, 1136, 1139, 1143, 1145, 1151, 1156, 1177, 1195, 1211, 1224, 1238, 1240, 1243, 1263, 1268, 1270, 1275, 1278, 1279, 1289, 1290, 1292, 1297, 1298, 1307, 1310, 1312, 1313, 1316, 1331, 1332, 1334, 1357, 1363, 1373, 1375, 1376, 1390, 1391, 1395, 1401, 1414, 1426, 1432, 1436, 1446, 1458, 1461, 1467, 1468, 1470, 1478, 1489, 1494, 1497, 1501, 1508, 1522, 1524, 1526, 1528, 1536, 1544, 1549, 1550, 1554, 1574, 1576, 1579, 1592, 1600, 1609, 1611, 1614, 1617, 1621, 1623, 1626, 1627, 1633, 1643, 1653, 1655, 1656, 1664, 1675, 1677, 1680, 1688, 1689, 1691, 1694, 1695, 1700, 1702, 1707, 1713, 1715, 1722, 1724, 1736, 1744, 1757, 1760, 1761, 1763, 1778, 1784, 1799, 1801, 1810, 1813, 1815, 1817, 1820, 1826, 1827, 1832, 1836, 1842, 1849, 1854, 1862, 1865, 1867, 1870, 1871, 1873, 1878, 1890, 1891, 1893, 1894, 1897, 1913, 1922, 1924, 1931, 1938, 1947, 1954, 1960, 1971, 1984, 1997, 2005, 2013, 2024, 2034, 2041, 2045, 2047, 2053, 2054, 2061, 2064, 2065, 2079, 2083, 2090, 2093, 2098, 2099, 2109, 2111, 2112, 2113, 2116, 2128, 2130, 2139, 2141, 2144, 2155, 2171, 2193, 2194, 2202, 2210, 2219, 2222, 2223, 2228, 2242, 2246, 2248, 2254, 2256, 2257, 2262, 2263, 2265, 2276, 2277, 2295, 2296, 2302, 2303, 2305, 2306, 2313, 2316, 2318, 2328, 2341, 2346, 2367, 2368, 2375, 2382, 2387, 2391, 2392, 2401, 2408, 2410, 2411, 2415, 2418, 2427, 2431, 2444, 2446, 2450, 2451, 2452, 2455, 2456, 2464, 2471, 2473, 2482, 2489, 2503, 2504, 2513, 2515, 2526, 2530, 2540, 2541, 2545, 2550, 2556, 2560, 2569, 2571, 2594, 2596, 2598, 2599, 2605, 2612, 2617, 2619, 2626, 2631, 2635, 2636, 2637, 2640, 2643, 2650, 2653, 2679, 2682, 2691, 2693, 2694, 2697, 2704, 2707, 2723, 2726, 2731, 2743, 2753, 2757, 2760, 2769, 2778, 2786, 2792, 2796, 2802, 2804, 2826, 2827, 2830, 2840, 2842, 2843, 2846, 2880, 2882, 2890, 2904, 2909, 2910, 2913, 2915, 2917, 2927, 2934, 2936, 2938, 2942, 2949, 2968, 2979, 2985, 2992, 2993, 2994, 3002, 3004, 3006, 3012, 3041, 3045, 3046, 3054, 3060, 3061, 3068, 3073, 3096, 3100, 3112, 3117, 3119, 3129, 3132, 3160, 3183, 3186, 3194, 3199, 3204, 3214, 3215, 3217, 3218, 3225, 3232, 3234, 3238, 3242, 3247, 3251, 3264, 3265, 3266, 3289, 3296, 3298, 3303, 3304, 3308, 3317, 3318, 3322, 3323, 3324, 3328, 3329, 3336, 3339, 3345, 3347, 3358, 3361, 3364, 3388, 3390, 3393, 3394, 3407, 3415, 3432, 3435, 3438, 3446, 3451, 3456, 3466, 3473, 3482, 3486, 3488, 3497, 3505, 3506, 3511, 3512, 3515, 3516, 3521, 3523, 3524, 3525, 3527, 3534, 3551, 3554, 3558, 3561, 3564, 3566, 3567, 3579, 3582, 3584, 3596, 3598, 3607, 3609, 3610, 3612, 3616, 3621, 3622, 3624, 3628, 3638, 3641, 3642, 3646, 3648, 3649, 3653, 3658, 3659, 3663, 3667, 3671, 3673, 3687, 3690, 3693, 3694, 3696, 3699, 3701, 3702, 3704, 3720, 3724, 3730, 3733, 3736, 3744, 3753, 3757, 3758, 3761, 3794, 3796, 3825, 3832, 3836, 3848, 3850, 3851, 3859, 3861, 3865, 3878, 3881, 3886, 3891, 3903, 3910, 3913, 3933, 3937, 3940, 3943, 3946, 3947, 3955, 3956, 3961, 3964, 3965, 3969, 3978, 3985, 3987, 3992, 3995, 3997, 4002, 4007, 4009, 4010, 4011, 4013, 4021, 4022, 4027, 4037, 4044, 4045, 4048, 4050, 4055, 4063, 4084, 4087, 4099, 4103, 4105, 4113, 4114, 4122, 4123, 4134, 4149, 4151, 4154, 4159, 4166, 4168, 4169, 4177, 4180, 4181, 4212, 4214, 4223, 4226, 4234, 4246, 4248, 4252, 4255, 4256, 4261, 4263, 4279, 4284, 4297, 4306, 4325, 4329, 4336, 4341, 4343, 4347, 4348, 4370, 4373, 4381, 4389, 4401, 4416, 4430, 4431, 4433, 4435, 4441, 4460, 4472, 4481, 4482, 4484, 4493, 4498, 4501, 4512, 4514, 4515, 4530, 4531, 4532, 4540, 4548, 4552, 4563, 4566, 4572, 4579, 4586, 4590, 4601, 4603, 4615, 4617, 4620, 4629, 4631, 4641, 4644, 4647, 4662, 4664, 4669, 4672, 4674, 4679, 4680, 4687, 4688, 4697, 4701, 4711, 4720, 4724, 4729, 4731, 4744, 4746, 4747, 4748, 4750, 4754, 4757, 4761, 4763, 4773, 4780, 4783, 4784, 4792, 4795, 4798, 4801, 4802, 4804, 4809, 4814, 4819, 4825, 4827, 4828, 4829, 4831, 4839, 4842, 4844, 4855, 4858, 4862, 4863, 4864, 4869, 4874, 4877, 4878, 4880, 4888, 4889, 4890, 4899, 4904, 4912, 4913, 4918, 4919, 4920, 4932, 4956, 4958, 4961, 4964, 4976, 4991, 4996, 5009, 5012, 5022, 5029, 5033, 5044, 5046, 5053, 5079, 5099, 5101, 5102, 5106, 5109, 5110, 5115, 5125, 5131, 5141, 5148, 5152, 5193, 5196, 5205, 5213, 5227, 5236, 5239, 5243, 5245, 5248, 5249, 5258, 5264, 5268, 5272, 5276, 5278, 5308, 5316, 5317, 5319, 5322, 5327, 5337, 5351, 5362, 5368, 5375, 5376, 5380, 5392, 5394, 5410, 5412, 5417, 5418, 5422, 5428, 5430, 5431, 5432, 5436, 5437, 5438, 5439, 5441, 5457, 5464, 5466, 5481, 5482, 5487, 5489, 5498, 5511, 5517, 5530, 5532, 5534, 5537, 5555, 5558, 5563, 5565, 5572, 5578, 5588, 5590, 5591, 5592, 5594, 5595, 5601, 5608, 5619, 5621, 5634, 5636, 5642, 5649, 5650, 5652, 5656, 5668, 5669, 5676, 5683, 5690, 5694, 5722, 5733, 5738, 5742, 5743, 5753, 5757, 5766, 5773, 5776, 5778, 5783, 5790, 5793, 5802, 5812, 5814, 5815, 5819, 5820, 5822, 5828, 5830, 5831, 5832, 5839, 5840, 5855, 5876, 5881, 5889, 5892, 5895, 5904, 5919, 5921, 5925, 5937, 5940, 5944, 5950, 5973, 5974, 5987, 5993, 5998, 6000, 6007, 6008, 6014, 6017, 6019, 6026, 6041, 6042, 6044, 6048, 6056, 6057, 6065, 6072, 6077, 6086, 6095, 6111, 6125, 6126, 6128, 6136, 6152, 6158, 6164, 6170, 6179, 6226, 6227, 6232, 6246, 6247, 6269, 6272, 6273, 6284, 6293, 6296, 6299, 6301, 6302, 6303, 6316, 6321, 6326, 6333, 6336, 6340, 6342, 6343, 6344, 6346, 6357, 6365, 6374, 6375, 6380, 6391, 6393, 6396, 6415, 6417, 6418, 6423, 6437, 6441, 6445, 6449, 6456, 6459, 6467, 6468, 6475, 6478, 6479, 6483, 6488, 6498, 6503, 6506, 6522, 6526, 6537, 6549, 6559, 6563, 6564, 6566, 6568, 6570, 6579, 6593, 6599, 6605, 6606, 6613, 6630, 6642, 6648, 6650, 6651, 6652, 6654, 6655, 6658, 6664, 6665, 6669, 6680, 6683, 6687, 6703, 6710, 6724, 6730, 6732, 6740, 6746, 6747, 6753, 6754, 6757, 6758, 6769, 6773, 6808, 6817, 6820, 6826, 6839, 6841, 6845, 6848, 6853, 6855, 6859, 6865, 6876, 6880, 6882, 6891, 6894, 6898, 6900, 6917, 6925, 6934, 6938, 6939, 6954, 6958, 6960, 6967, 6969, 6971, 6993, 6995, 7003, 7005, 7009, 7018, 7019, 7020, 7026, 7033, 7039, 7046, 7049, 7053, 7058, 7060, 7061, 7071, 7076, 7081, 7089, 7109, 7114, 7117, 7126, 7133, 7135, 7139, 7140, 7142, 7145, 7153, 7155, 7162, 7170, 7172, 7183, 7184, 7187, 7195, 7199, 7202, 7208, 7209, 7213, 7232, 7241, 7242, 7251, 7252, 7267, 7275, 7279, 7286, 7292, 7301, 7305, 7306, 7321, 7328, 7331, 7348, 7351, 7355, 7358, 7365, 7366, 7368, 7373, 7374, 7391, 7397, 7409, 7415, 7417, 7422, 7426, 7432, 7444, 7449, 7453, 7454, 7470, 7475, 7476, 7494, 7497, 7511, 7513, 7514, 7515, 7518, 7520, 7521, 7522, 7526, 7537, 7540, 7547, 7550, 7556, 7567, 7570, 7572, 7579, 7584, 7585, 7586, 7588, 7594, 7605, 7621, 7629, 7630, 7647, 7649, 7650, 7653, 7664, 7667, 7668, 7683, 7686, 7689, 7697, 7723, 7726, 7743, 7748, 7762, 7771, 7786, 7793, 7794, 7811, 7815, 7816, 7835, 7838, 7840, 7848, 7849, 7851, 7860, 7862, 7876, 7891, 7900, 7904, 7908, 7913, 7917, 7920, 7930, 7932, 7943, 7944, 7955, 7984, 7985, 7999, 8001, 8003, 8014, 8020, 8024, 8026, 8053, 8054, 8058, 8065, 8086, 8089, 8090, 8108, 8123, 8125, 8140, 8141, 8145, 8148, 8157, 8166, 8168, 8169, 8179, 8180, 8184, 8193, 8196, 8208, 8209, 8225, 8230, 8244, 8246, 8250, 8257, 8259, 8262, 8279, 8294, 8310, 8323, 8331, 8340, 8341, 8342, 8350, 8369, 8375, 8379, 8381, 8383, 8387, 8390, 8391, 8392, 8398, 8413, 8425, 8428, 8433, 8434, 8443, 8460, 8466, 8475, 8479, 8492, 8495, 8503, 8504, 8506, 8512, 8513, 8515, 8526, 8530, 8533, 8541, 8552, 8555, 8559, 8560, 8564, 8573, 8574, 8584, 8595, 8598, 8602, 8603, 8606, 8607, 8616, 8621, 8646, 8657, 8660, 8661, 8665, 8666, 8671, 8673, 8689, 8712, 8715, 8720, 8725, 8726, 8728, 8735, 8736, 8742, 8743, 8750, 8765, 8786, 8790, 8795, 8797, 8800, 8802, 8805, 8806, 8807, 8811, 8815, 8818, 8829, 8849, 8851, 8861, 8866, 8879, 8880, 8884, 8885, 8890, 8892, 8893, 8896, 8914, 8931, 8935, 8943, 8945, 8948, 8954, 8957, 8958, 8966, 8972, 8994, 8999, 9012, 9013, 9016, 9019, 9031, 9032, 9034, 9037, 9049, 9050, 9055, 9059, 9062, 9064, 9067, 9072, 9080, 9088, 9096, 9102, 9112, 9121, 9122, 9123, 9124, 9129, 9142, 9144, 9147, 9152, 9153, 9154, 9156, 9159, 9161, 9171, 9174, 9183, 9188, 9190, 9191, 9213, 9225, 9229, 9251, 9259, 9269, 9274, 9281, 9285, 9288, 9294, 9297, 9299, 9302, 9309, 9326, 9343, 9344, 9360, 9361, 9365, 9368, 9375, 9380, 9392, 9401, 9407, 9408, 9411, 9412, 9417, 9424, 9429, 9431, 9438, 9450, 9455, 9456, 9471, 9472, 9495, 9524, 9532, 9538, 9540, 9542, 9543, 9550, 9554, 9555, 9560, 9565, 9577, 9595, 9597, 9609, 9611, 9622, 9626, 9633, 9640, 9644, 9652, 9653, 9665, 9668, 9672, 9691, 9695, 9698, 9700, 9701, 9702, 9713, 9714, 9715, 9717, 9720, 9726, 9731, 9735, 9742, 9747, 9765, 9782, 9783, 9785, 9796, 9808, 9810, 9816, 9834, 9835, 9854, 9868, 9873, 9887, 9889, 9898, 9899, 9902, 9904, 9905, 9906, 9919, 9920, 9924, 9926, 9931, 9935, 9939, 9950, 9955, 9958, 9970, 9972, 9979, 9981, 9989, 9990, 9991, 10005, 10020, 10028, 10034, 10045, 10046, 10049, 10050, 10052, 10057, 10082, 10084, 10091, 10096, 10104, 10107, 10114, 10117, 10137, 10138, 10141, 10145, 10146, 10150, 10157, 10159, 10167, 10171, 10185, 10198, 10211, 10212, 10219, 10223, 10225, 10227, 10237, 10238, 10247, 10267, 10272, 10273, 10274, 10287, 10289, 10293, 10297, 10299, 10304, 10307, 10309, 10315, 10317, 10318, 10332, 10350, 10356, 10363, 10372, 10374, 10391, 10401, 10405, 10411, 10412, 10427, 10428, 10429, 10443, 10445, 10457, 10463, 10467, 10473, 10483, 10485, 10488, 10491, 10495, 10498, 10519, 10531, 10537, 10547, 10562, 10565, 10573, 10587, 10596, 10607, 10615, 10620, 10625, 10654, 10673, 10685, 10710, 10714, 10729, 10734, 10748, 10783, 10802, 10805, 10807, 10808, 10815, 10826, 10828, 10830, 10835, 10837, 10839, 10843, 10847, 10850, 10857, 10858, 10861, 10871, 10916, 10918, 10922, 10931, 10934, 10940, 10945, 10963, 10967, 10969, 10972, 10981, 10982, 10989, 10993, 10997, 11001, 11002, 11006, 11019, 11034, 11036, 11037, 11039, 11041, 11053, 11055, 11059, 11062, 11070, 11074, 11076, 11091, 11119, 11122, 11136, 11139, 11150, 11153, 11164, 11165, 11184, 11187, 11188, 11190, 11198, 11204, 11215, 11220, 11222, 11236, 11242, 11243, 11249, 11258, 11276, 11294, 11297, 11303, 11315, 11319, 11336, 11341, 11342, 11343, 11347, 11348, 11354, 11362, 11369, 11377, 11389, 11406, 11408, 11409, 11417, 11433, 11435, 11437, 11445, 11453, 11461, 11467, 11468, 11469, 11472, 11473, 11476, 11491, 11497, 11500, 11501, 11512, 11521, 11525, 11535, 11542, 11545, 11551, 11554, 11555, 11557, 11561, 11569, 11570, 11582, 11600, 11603, 11612, 11618, 11630, 11634, 11654, 11666, 11667, 11672, 11679, 11682, 11715, 11720, 11722, 11728, 11736, 11739, 11742, 11748, 11764, 11765, 11766, 11793, 11813, 11817, 11822, 11834, 11839, 11842, 11847, 11849, 11850, 11856, 11863, 11865, 11867, 11869, 11873, 11881, 11883, 11896, 11904, 11910, 11912, 11919, 11927, 11932, 11936, 11940, 11948, 11951, 11960, 11963, 11967, 11970, 11972, 11976, 11984, 12007, 12009, 12017, 12027, 12033, 12036, 12038, 12059, 12068, 12076, 12086, 12087, 12100, 12101, 12104, 12106, 12109, 12117, 12125, 12146, 12152, 12153, 12154, 12163, 12167, 12171, 12176, 12185, 12187, 12188, 12191, 12198, 12203, 12205, 12209, 12216, 12219, 12220, 12226, 12227, 12228, 12231, 12236, 12237, 12240, 12243, 12249, 12266, 12276, 12282, 12288, 12298, 12304, 12308, 12311, 12314, 12327, 12341, 12347, 12349, 12351, 12352, 12353, 12361, 12375, 12392, 12398, 12400, 12401, 12410, 12414, 12416, 12429, 12431, 12435, 12450, 12454, 12455, 12457, 12465, 12470, 12471, 12491, 12501, 12514, 12517, 12518, 12519, 12529, 12531, 12533, 12538, 12541, 12549, 12564, 12567, 12578, 12579, 12587, 12594, 12601, 12604, 12609, 12618, 12619, 12625, 12646, 12653, 12666, 12669, 12693, 12697, 12703, 12714, 12718, 12735, 12742, 12749, 12754, 12759, 12770, 12772, 12776, 12786, 12789, 12794, 12806, 12809, 12818, 12834, 12835, 12846, 12849, 12853, 12863, 12866, 12869, 12870, 12890, 12894, 12910, 12912, 12919, 12922, 12929, 12938, 12945, 12946, 12947, 12948, 12960, 12961, 12962, 12968, 12969, 12978, 12985, 12990, 13011, 13014, 13019, 13030, 13050, 13056, 13060, 13065, 13083, 13084, 13093, 13095, 13108, 13125, 13133, 13138, 13152, 13158, 13160, 13175, 13178, 13196, 13203, 13221, 13226, 13235, 13244, 13252, 13256, 13275, 13276, 13278, 13288, 13291, 13294, 13304, 13305, 13308, 13316, 13324, 13345, 13349, 13359, 13360, 13375, 13377, 13392, 13417, 13420, 13424, 13425, 13426, 13434, 13437, 13440, 13441, 13442, 13443, 13449, 13453, 13460, 13472, 13480, 13489, 13494, 13497, 13504, 13507, 13519, 13526, 13528, 13532, 13535, 13547, 13549, 13569, 13571, 13577, 13579, 13593, 13601, 13602, 13604, 13607, 13613, 13615, 13621, 13626, 13628, 13629, 13636, 13650, 13677, 13679, 13700, 13711, 13713, 13722, 13732, 13734, 13748, 13760, 13761, 13779, 13787, 13804, 13834, 13841, 13852, 13854, 13859, 13869, 13872, 13907, 13912, 13917, 13918, 13919, 13921, 13924, 13931, 13944, 13946, 13952, 13960, 13962, 13964, 13975, 13985, 13991, 13996, 14000, 14004, 14007, 14008, 14009, 14013, 14015, 14019, 14023, 14024, 14034, 14042, 14050, 14051, 14064, 14066, 14068, 14072, 14075, 14078, 14089, 14094, 14097, 14101, 14102, 14108, 14111, 14121, 14124, 14126, 14127, 14132, 14149, 14157, 14164, 14166, 14175, 14183, 14187, 14191, 14198, 14206, 14211, 14212, 14235, 14240, 14260, 14271, 14281, 14284, 14285, 14293, 14310, 14314, 14318, 14323, 14325, 14354, 14358, 14373, 14383, 14385, 14411, 14414, 14423, 14424, 14426, 14442, 14448, 14454, 14455, 14459, 14463, 14469, 14478, 14480, 14482, 14484, 14503, 14504, 14524, 14541, 14546, 14552, 14554, 14575, 14582, 14586, 14587, 14594, 14602, 14606, 14614, 14617, 14622, 14625, 14628, 14633, 14634, 14638, 14644, 14645, 14650, 14652, 14661, 14666, 14671, 14679, 14686, 14697, 14703, 14707, 14709, 14710, 14723, 14734, 14736, 14744, 14758, 14759, 14761, 14768, 14781, 14787, 14794, 14807, 14813, 14824, 14839, 14840, 14853, 14855, 14864, 14871, 14877, 14878, 14891, 14895, 14899, 14900, 14911, 14916, 14924, 14942, 14963, 14968, 14981, 14983, 14985, 14995, 14996, 15008, 15014, 15030, 15039, 15040, 15046, 15054, 15078, 15085, 15088, 15099, 15102, 15106, 15107, 15113, 15114]\n",
            "#FollowFriday,\n"
          ]
        },
        {
          "output_type": "execute_result",
          "data": {
            "text/plain": [
              "[['I',\n",
              "  'would',\n",
              "  'do',\n",
              "  'a',\n",
              "  '#FollowFriday,',\n",
              "  'but',\n",
              "  'everyone',\n",
              "  'on',\n",
              "  'my',\n",
              "  'list',\n",
              "  'is',\n",
              "  'already',\n",
              "  'on',\n",
              "  'everyone',\n",
              "  'elses',\n",
              "  'list',\n",
              "  'so',\n",
              "  'what`s',\n",
              "  'the',\n",
              "  'point?',\n",
              "  'I`m',\n",
              "  'just',\n",
              "  'not',\n",
              "  'popular',\n",
              "  'enough.']]"
            ]
          },
          "metadata": {},
          "execution_count": 100
        }
      ]
    },
    {
      "cell_type": "markdown",
      "source": [
        "Answers for questions\n",
        "\n",
        "- 1. The dimensions of your feature matrix (X) is 5000 x 15122.\n",
        "- 2. The value of X[1460][1460] is 0\n",
        "- 3. The feature the 1460th column represent is \"check:\"\n",
        "- 4. Run one iteration of your k-fold cross validation function to find an example of a word that appears in the test set but never appears in the training set. We find an example word - **\"#FollowFriday**\". The word is in the tweet of ['I',\n",
        "  'would',\n",
        "  'do',\n",
        "  'a',\n",
        "  '#FollowFriday,',\n",
        "  'but',\n",
        "  'everyone',\n",
        "  'on',\n",
        "  'my',\n",
        "  'list',\n",
        "  'is',\n",
        "  'already',\n",
        "  'on',\n",
        "  'everyone',\n",
        "  'elses',\n",
        "  'list',\n",
        "  'so',\n",
        "  'what`s',\n",
        "  'the',\n",
        "  'point?',\n",
        "  'I`m',\n",
        "  'just',\n",
        "  'not',\n",
        "  'popular',\n",
        "  'enough.'] \n",
        "- 5. The unknow word that never appeared in the training set but in the test set while have one value in their sparse feature matrix."
      ],
      "metadata": {
        "id": "Chhq1KlP9G6Z"
      }
    },
    {
      "cell_type": "markdown",
      "metadata": {
        "id": "GBN_jXx8fq4C"
      },
      "source": [
        "# Part 2: Improved Preprocessing"
      ]
    },
    {
      "cell_type": "markdown",
      "source": [
        "In this section, we are going to improve the preprocessing step, but otherwise keep the above workflow the same. Write a new preprocessing function (`preprocessing_part2`) to do the following things. Then call `run_part2_workflow` and observe the difference in performance. \n",
        "\n",
        "For Part 2, your preprocessing function should do the following (not necessarily in this order):\n",
        "\n",
        "* lowercasing\n",
        "* lemmatization\n",
        "* remove stop words\n",
        "* remove punctuation and extra white space \n",
        "* use only top 1000 most frequent words, and replace the rest with OOV\n",
        "* replace numbers with NUM\n",
        "\n",
        "**Think about how each step affects the next one in the pipeline.** Specifically, one of these steps makes more sense to do last, so make sure your code reflects that.\n",
        "\n",
        "Your final feature matrix should have 1001 columns (1000 most frequent words and one OOV token).\n",
        "\n",
        "Use spacy to do these things. You shouldn't need to import any additional libraries (but hint: we've imported the Counter library in a previous cell). You can read the spacy documentation [here](http://spacy.pythonhumanities.com/01_02_linguistic_annotations.html#token-attributes) and [here](https://spacy.io/api/annotation#pos-tagging). \n"
      ],
      "metadata": {
        "id": "wqObqbbplLJ5"
      }
    },
    {
      "cell_type": "code",
      "source": [
        "# Input: List<String> raw_tweets, Boolean from_cache, String cache_path\n",
        "# Output: List<List<String>>: preprocessed tweets.\n",
        "from collections import Counter\n",
        "import itertools\n",
        "import spacy\n",
        "def preprocessing_part2(raw_tweets):\n",
        "  \n",
        "  # parse all the tweets with spacy\n",
        "  # this will take a couple minutes the first time you run it;\n",
        "  # it will save to a cache file, and will load from the cache file next time\n",
        "\n",
        "  # ===== DO NOT MODIFY ======\n",
        "  cache_path = \"parsed_tweets.pickle\"\n",
        "  nlp = spacy.load('en_core_web_sm')\n",
        "  if os.path.exists(cache_path): \n",
        "    print(\"Loading parses from cache at %s\"%cache_path)\n",
        "    parsed_tweets = pickle.load(open(cache_path, 'rb'))\n",
        "  else:\n",
        "    parsed_tweets = []\n",
        "    for i,r in enumerate(raw_tweets):\n",
        "      if i % 1000 == 0:\n",
        "        print(\"Processed %d out of %d\"%(i, len(raw_tweets)))\n",
        "      parsed_tweets.append(nlp(r))\n",
        "    if cache_path is not None:\n",
        "       pickle.dump(parsed_tweets, open(cache_path, 'wb'))\n",
        "  # ============================\n",
        "  # TODO: preprocessing steps outlined above\n",
        "  # 1. turn raw_tweet into spacy document\n",
        "  spcy_tt=[nlp(raw_tt) for raw_tt in raw_tweets]\n",
        "  stopwords = nlp.Defaults.stop_words\n",
        "  \n",
        "  # lemantize and remove punc\n",
        "  lem_tt=[]\n",
        "  for doc in spcy_tt:\n",
        "    st = [x.lemma_ for x in doc if not x.is_punct]\n",
        "    lem_tt.append(st)\n",
        "\n",
        "  # remove stopwords and lower\n",
        "  rm_tt=[]\n",
        "  for doc in lem_tt:\n",
        "    st = [x.lower() for x in doc if not x in stopwords]\n",
        "    rm_tt.append(st)\n",
        "\n",
        "\n",
        "  # No extrawhite space\n",
        "  nw_tt=[]\n",
        "  for doc in rm_tt:\n",
        "      st=[x.strip(' ') for x in doc]\n",
        "      st=[x for x in st if x != '']\n",
        "      nw_tt.append(st)\n",
        "\n",
        "  # replace digit by \"NUM\"\n",
        "  dg_tt=[]\n",
        "  for doc in nw_tt:\n",
        "      temp=[]\n",
        "      for ele in doc:\n",
        "        if ele.isdigit():\n",
        "          ele=\"NUM\"\n",
        "          temp.append(ele)\n",
        "        else:\n",
        "          temp.append(ele);\n",
        "      dg_tt.append(temp)\n",
        "\n",
        "  # use only top 1000 most frequent words, and replace the rest with OOV\n",
        "  wd_bank = list(itertools.chain.from_iterable(dg_tt))\n",
        "  word_freq = Counter(wd_bank)\n",
        "  common_words = word_freq.most_common(1000)\n",
        "  cm_wd_lst=[ele[0] for ele in common_words]\n",
        "\n",
        "  # use just first 1000\n",
        "  freq_tt=[]\n",
        "  for doc in dg_tt:\n",
        "      temp=[]\n",
        "      for ele in doc:\n",
        "        if ele in cm_wd_lst:\n",
        "          temp.append(ele)\n",
        "        else:\n",
        "          ele=\"OOV\"\n",
        "          temp.append(ele);\n",
        "      freq_tt.append(temp)\n",
        "  \n",
        "  return freq_tt\n",
        "\n",
        "\n",
        "\n",
        "  # End TODO\n",
        "\n",
        "X_preproc = preprocessing_part2(raw_tweets)\n",
        "\n",
        "better_preproc_accs, feat_matx, feat_dict = run_kfold_crossval(X_preproc, y, k=K_FOLD)\n",
        "\n",
        "make_plots([mfc_baseline, basic_bow_accs, better_preproc_accs],\n",
        "           [\"MFC Baseline\", \"Basic BOW\", \"BOW+preproc\"])  "
      ],
      "metadata": {
        "id": "a3C5i1-olity",
        "colab": {
          "base_uri": "https://localhost:8080/",
          "height": 1000
        },
        "outputId": "9514d2e2-20cf-4c9a-d636-c2473d63f061"
      },
      "execution_count": 15,
      "outputs": [
        {
          "output_type": "stream",
          "name": "stdout",
          "text": [
            "Processed 0 out of 5000\n",
            "Processed 1000 out of 5000\n",
            "Processed 2000 out of 5000\n",
            "Processed 3000 out of 5000\n",
            "Processed 4000 out of 5000\n"
          ]
        },
        {
          "output_type": "stream",
          "name": "stderr",
          "text": [
            "/usr/local/lib/python3.7/dist-packages/sklearn/linear_model/_logistic.py:818: ConvergenceWarning: lbfgs failed to converge (status=1):\n",
            "STOP: TOTAL NO. of ITERATIONS REACHED LIMIT.\n",
            "\n",
            "Increase the number of iterations (max_iter) or scale the data as shown in:\n",
            "    https://scikit-learn.org/stable/modules/preprocessing.html\n",
            "Please also refer to the documentation for alternative solver options:\n",
            "    https://scikit-learn.org/stable/modules/linear_model.html#logistic-regression\n",
            "  extra_warning_msg=_LOGISTIC_SOLVER_CONVERGENCE_MSG,\n",
            "/usr/local/lib/python3.7/dist-packages/sklearn/linear_model/_logistic.py:818: ConvergenceWarning: lbfgs failed to converge (status=1):\n",
            "STOP: TOTAL NO. of ITERATIONS REACHED LIMIT.\n",
            "\n",
            "Increase the number of iterations (max_iter) or scale the data as shown in:\n",
            "    https://scikit-learn.org/stable/modules/preprocessing.html\n",
            "Please also refer to the documentation for alternative solver options:\n",
            "    https://scikit-learn.org/stable/modules/linear_model.html#logistic-regression\n",
            "  extra_warning_msg=_LOGISTIC_SOLVER_CONVERGENCE_MSG,\n",
            "/usr/local/lib/python3.7/dist-packages/sklearn/linear_model/_logistic.py:818: ConvergenceWarning: lbfgs failed to converge (status=1):\n",
            "STOP: TOTAL NO. of ITERATIONS REACHED LIMIT.\n",
            "\n",
            "Increase the number of iterations (max_iter) or scale the data as shown in:\n",
            "    https://scikit-learn.org/stable/modules/preprocessing.html\n",
            "Please also refer to the documentation for alternative solver options:\n",
            "    https://scikit-learn.org/stable/modules/linear_model.html#logistic-regression\n",
            "  extra_warning_msg=_LOGISTIC_SOLVER_CONVERGENCE_MSG,\n",
            "/usr/local/lib/python3.7/dist-packages/sklearn/linear_model/_logistic.py:818: ConvergenceWarning: lbfgs failed to converge (status=1):\n",
            "STOP: TOTAL NO. of ITERATIONS REACHED LIMIT.\n",
            "\n",
            "Increase the number of iterations (max_iter) or scale the data as shown in:\n",
            "    https://scikit-learn.org/stable/modules/preprocessing.html\n",
            "Please also refer to the documentation for alternative solver options:\n",
            "    https://scikit-learn.org/stable/modules/linear_model.html#logistic-regression\n",
            "  extra_warning_msg=_LOGISTIC_SOLVER_CONVERGENCE_MSG,\n"
          ]
        },
        {
          "output_type": "stream",
          "name": "stdout",
          "text": [
            "MFC Baseline:\t0.405\n",
            "Basic BOW:\t0.586\n",
            "BOW+preproc:\t0.626\n"
          ]
        },
        {
          "output_type": "stream",
          "name": "stderr",
          "text": [
            "/usr/local/lib/python3.7/dist-packages/sklearn/linear_model/_logistic.py:818: ConvergenceWarning: lbfgs failed to converge (status=1):\n",
            "STOP: TOTAL NO. of ITERATIONS REACHED LIMIT.\n",
            "\n",
            "Increase the number of iterations (max_iter) or scale the data as shown in:\n",
            "    https://scikit-learn.org/stable/modules/preprocessing.html\n",
            "Please also refer to the documentation for alternative solver options:\n",
            "    https://scikit-learn.org/stable/modules/linear_model.html#logistic-regression\n",
            "  extra_warning_msg=_LOGISTIC_SOLVER_CONVERGENCE_MSG,\n"
          ]
        },
        {
          "output_type": "display_data",
          "data": {
            "text/plain": [
              "<Figure size 432x288 with 1 Axes>"
            ],
            "image/png": "[encoded data removed]"
          },
          "metadata": {
            "needs_background": "light"
          }
        }
      ]
    },
    {
      "cell_type": "markdown",
      "metadata": {
        "id": "DMNapyQfmLHM"
      },
      "source": [
        "# Part 3: Improved Featurization"
      ]
    },
    {
      "cell_type": "markdown",
      "source": [
        "In this section, we will expand the featurize function to include more advanced and sophisticated features. You will now add 5-grams as features along with the unigrams to preserve the order of the sentence."
      ],
      "metadata": {
        "id": "3tBfdtKCuF2O"
      }
    },
    {
      "cell_type": "code",
      "source": [
        "from collections import Counter\n",
        "from itertools import chain\n",
        "\n",
        "# Input: List<List<String>>: preproc_X\n",
        "# Output: Matrix<Float>: feature matrix, DictVectorizer: dv, Boolean: isTest\n",
        "def featurize_part3(preproc_X, dv=None, isTest = False):\n",
        "  # TODO add 5-gram features to your feature function in addition to unigrams\n",
        "\n",
        "  dicts =  []\n",
        "  \n",
        "  for p_twt in preproc_X:\n",
        "    wd_dict = dict(Counter(chain.from_iterable(zip(sublist, sublist[1:], sublist[2:],sublist[3:],sublist[4:]) for sublist in p_twt)))\n",
        "    dicts.append(wd_dict)\n",
        "\n",
        "\n",
        "  # End: TODO.\n",
        "  # ===== DO NOT MODIFY ======\n",
        "  if isTest is False:\n",
        "    dv = DictVectorizer()\n",
        "    X = dv.fit_transform(dicts)\n",
        "    return X, dv\n",
        "  else:\n",
        "    return dv.transform(dicts), dv\n",
        "  # ====================\n",
        "\n",
        "X_preproc = preprocessing_part2(raw_tweets)\n",
        "\n",
        "better_feature_accs, feat_matx, feat_dict = run_kfold_crossval(X_preproc, y, k=K_FOLD,\n",
        "                                         feature_fn=featurize_part3)\n",
        "\n",
        "make_plots([mfc_baseline, basic_bow_accs, better_preproc_accs, better_feature_accs],\n",
        "           [\"MFC Baseline\", \"Basic BOW\", \"BOW+preproc\", \"Better Features\"])  "
      ],
      "metadata": {
        "id": "AQ38t5IymRqN",
        "colab": {
          "base_uri": "https://localhost:8080/",
          "height": 354
        },
        "outputId": "e0817c43-b286-4684-9d0b-20e3f7d31821"
      },
      "execution_count": 51,
      "outputs": [
        {
          "output_type": "stream",
          "name": "stdout",
          "text": [
            "Loading parses from cache at parsed_tweets.pickle\n",
            "MFC Baseline:\t0.405\n",
            "Basic BOW:\t0.586\n",
            "BOW+preproc:\t0.626\n",
            "Better Features:\t0.537\n"
          ]
        },
        {
          "output_type": "display_data",
          "data": {
            "text/plain": [
              "<Figure size 432x288 with 1 Axes>"
            ],
            "image/png": "[encoded data removed]"
          },
          "metadata": {
            "needs_background": "light"
          }
        }
      ]
    },
    {
      "cell_type": "markdown",
      "source": [
        "# Extra credit challenge!"
      ],
      "metadata": {
        "id": "Gmkiw47pPB0T"
      }
    },
    {
      "cell_type": "markdown",
      "source": [
        "Congratulations on finishing all the mandatory parts in the first assignment! Hope you had a good time playing around with spaCy and sklearn. \n",
        "\n",
        "Here in this section, you will have the freedom to play around with other features mentioned in class, or that you come up with yourself! You will get an extra point if you are able to raise the Logistic Regression accuracy rate to >=68%."
      ],
      "metadata": {
        "id": "UwHOKTw9SRFW"
      }
    },
    {
      "cell_type": "code",
      "source": [
        "\n",
        "# Input: List<String> raw_tweets, Boolean from_cache, String cache_path\n",
        "# Output: List<List<String>>: preprocessed tweets.\n",
        "from collections import Counter\n",
        "import itertools\n",
        "import spacy\n",
        "def preprocessing_part3(raw_tweets):\n",
        "  \n",
        "  # parse all the tweets with spacy\n",
        "  # this will take a couple minutes the first time you run it;\n",
        "  # it will save to a cache file, and will load from the cache file next time\n",
        "\n",
        "  # ===== DO NOT MODIFY ======\n",
        "  cache_path = \"parsed_tweets.pickle\"\n",
        "  nlp = spacy.load('en_core_web_sm')\n",
        "  if os.path.exists(cache_path): \n",
        "    print(\"Loading parses from cache at %s\"%cache_path)\n",
        "    parsed_tweets = pickle.load(open(cache_path, 'rb'))\n",
        "  else:\n",
        "    parsed_tweets = []\n",
        "    for i,r in enumerate(raw_tweets):\n",
        "      if i % 1000 == 0:\n",
        "        print(\"Processed %d out of %d\"%(i, len(raw_tweets)))\n",
        "      parsed_tweets.append(nlp(r))\n",
        "    if cache_path is not None:\n",
        "       pickle.dump(parsed_tweets, open(cache_path, 'wb'))\n",
        "  # ============================\n",
        "  # TODO: preprocessing steps outlined above\n",
        "  # 1. turn raw_tweet into spacy document\n",
        "  spcy_tt=[nlp(raw_tt) for raw_tt in raw_tweets]\n",
        "  stopwords = nlp.Defaults.stop_words\n",
        "  \n",
        "  # lemantize and remove punc\n",
        "  lem_tt=[]\n",
        "  for doc in spcy_tt:\n",
        "    st = [x.lemma_ for x in doc if not x.is_punct]\n",
        "    lem_tt.append(st)\n",
        "\n",
        "  # remove stopwords and lower\n",
        "  rm_tt=[]\n",
        "  for doc in lem_tt:\n",
        "    st = [x.lower() for x in doc if not x in stopwords]\n",
        "    rm_tt.append(st)\n",
        "\n",
        "\n",
        "  # No extrawhite space\n",
        "  nw_tt=[]\n",
        "  for doc in rm_tt:\n",
        "      st=[x.strip(' ') for x in doc]\n",
        "      st=[x for x in st if x != '']\n",
        "      nw_tt.append(st)\n",
        "\n",
        "  # replace digit by \"NUM\"\n",
        "  dg_tt=[]\n",
        "  for doc in nw_tt:\n",
        "      temp=[]\n",
        "      for ele in doc:\n",
        "        if ele.isdigit():\n",
        "          ele=\"NUM\"\n",
        "          temp.append(ele)\n",
        "        else:\n",
        "          temp.append(ele);\n",
        "      dg_tt.append(temp)\n",
        "\n",
        "  # use only top 1000 most frequent words, and replace the rest with OOV\n",
        "  wd_bank = list(itertools.chain.from_iterable(dg_tt))\n",
        "  word_freq = Counter(wd_bank)\n",
        "  common_words = word_freq.most_common(5000)\n",
        "  cm_wd_lst=[ele[0] for ele in common_words]\n",
        "\n",
        "  # use just first 1000\n",
        "  freq_tt=[]\n",
        "  for doc in dg_tt:\n",
        "      temp=[]\n",
        "      for ele in doc:\n",
        "        if ele in cm_wd_lst:\n",
        "          temp.append(ele)\n",
        "        else:\n",
        "          ele=\"OOV\"\n",
        "          temp.append(ele);\n",
        "      freq_tt.append(temp)\n",
        "  \n",
        "  return freq_tt\n",
        "\n",
        "\n",
        "  # End TODO\n",
        "\n",
        "\n",
        "K_FOLD = 5\n",
        "raw_tweets, y = load_data()\n",
        "\n",
        "\n",
        "X_preproc = preprocessing_part3(raw_tweets)\n",
        "\n",
        "FT_bow_accs , feat_matx, feat_dict = run_kfold_crossval(X_preproc, y, k=K_FOLD, feature_fn=featurize)\n",
        "\n",
        "# here, we are going generate the \"most frequent class\" baseline based on the\n",
        "# training data\n",
        "counts = Counter(y).values()\n",
        "mfc_baseline = [max(counts)/sum(counts)] * K_FOLD\n",
        "\n",
        "# plot the results!\n",
        "make_plots([mfc_baseline, FT_bow_accs], [\"MFC Baseline\", \"Fine-tune BOW\"])  \n"
      ],
      "metadata": {
        "colab": {
          "base_uri": "https://localhost:8080/",
          "height": 1000
        },
        "id": "hZmX5n2-sWoI",
        "outputId": "70aee6d8-bef9-4379-e5d3-cccf2e031eae"
      },
      "execution_count": 56,
      "outputs": [
        {
          "output_type": "stream",
          "name": "stdout",
          "text": [
            "Loading parses from cache at parsed_tweets.pickle\n"
          ]
        },
        {
          "output_type": "stream",
          "name": "stderr",
          "text": [
            "/usr/local/lib/python3.7/dist-packages/sklearn/linear_model/_logistic.py:818: ConvergenceWarning: lbfgs failed to converge (status=1):\n",
            "STOP: TOTAL NO. of ITERATIONS REACHED LIMIT.\n",
            "\n",
            "Increase the number of iterations (max_iter) or scale the data as shown in:\n",
            "    https://scikit-learn.org/stable/modules/preprocessing.html\n",
            "Please also refer to the documentation for alternative solver options:\n",
            "    https://scikit-learn.org/stable/modules/linear_model.html#logistic-regression\n",
            "  extra_warning_msg=_LOGISTIC_SOLVER_CONVERGENCE_MSG,\n",
            "/usr/local/lib/python3.7/dist-packages/sklearn/linear_model/_logistic.py:818: ConvergenceWarning: lbfgs failed to converge (status=1):\n",
            "STOP: TOTAL NO. of ITERATIONS REACHED LIMIT.\n",
            "\n",
            "Increase the number of iterations (max_iter) or scale the data as shown in:\n",
            "    https://scikit-learn.org/stable/modules/preprocessing.html\n",
            "Please also refer to the documentation for alternative solver options:\n",
            "    https://scikit-learn.org/stable/modules/linear_model.html#logistic-regression\n",
            "  extra_warning_msg=_LOGISTIC_SOLVER_CONVERGENCE_MSG,\n",
            "/usr/local/lib/python3.7/dist-packages/sklearn/linear_model/_logistic.py:818: ConvergenceWarning: lbfgs failed to converge (status=1):\n",
            "STOP: TOTAL NO. of ITERATIONS REACHED LIMIT.\n",
            "\n",
            "Increase the number of iterations (max_iter) or scale the data as shown in:\n",
            "    https://scikit-learn.org/stable/modules/preprocessing.html\n",
            "Please also refer to the documentation for alternative solver options:\n",
            "    https://scikit-learn.org/stable/modules/linear_model.html#logistic-regression\n",
            "  extra_warning_msg=_LOGISTIC_SOLVER_CONVERGENCE_MSG,\n",
            "/usr/local/lib/python3.7/dist-packages/sklearn/linear_model/_logistic.py:818: ConvergenceWarning: lbfgs failed to converge (status=1):\n",
            "STOP: TOTAL NO. of ITERATIONS REACHED LIMIT.\n",
            "\n",
            "Increase the number of iterations (max_iter) or scale the data as shown in:\n",
            "    https://scikit-learn.org/stable/modules/preprocessing.html\n",
            "Please also refer to the documentation for alternative solver options:\n",
            "    https://scikit-learn.org/stable/modules/linear_model.html#logistic-regression\n",
            "  extra_warning_msg=_LOGISTIC_SOLVER_CONVERGENCE_MSG,\n"
          ]
        },
        {
          "output_type": "stream",
          "name": "stdout",
          "text": [
            "MFC Baseline:\t0.405\n",
            "Fine-tune BOW:\t0.632\n"
          ]
        },
        {
          "output_type": "stream",
          "name": "stderr",
          "text": [
            "/usr/local/lib/python3.7/dist-packages/sklearn/linear_model/_logistic.py:818: ConvergenceWarning: lbfgs failed to converge (status=1):\n",
            "STOP: TOTAL NO. of ITERATIONS REACHED LIMIT.\n",
            "\n",
            "Increase the number of iterations (max_iter) or scale the data as shown in:\n",
            "    https://scikit-learn.org/stable/modules/preprocessing.html\n",
            "Please also refer to the documentation for alternative solver options:\n",
            "    https://scikit-learn.org/stable/modules/linear_model.html#logistic-regression\n",
            "  extra_warning_msg=_LOGISTIC_SOLVER_CONVERGENCE_MSG,\n"
          ]
        },
        {
          "output_type": "display_data",
          "data": {
            "text/plain": [
              "<Figure size 432x288 with 1 Axes>"
            ],
            "image/png": "[encoded data removed]"
          },
          "metadata": {
            "needs_background": "light"
          }
        }
      ]
    },
    {
      "cell_type": "markdown",
      "source": [
        "From the above four experiments, we see a good direction is keeping the prepossessing steps for text and add the BOG model. The extra part, to boost the efficiency we work more on part of word frequency - top 5000 frequent words. Adimittedly, we are not reaching 0.68, but we therefore have the final accuracy result as 0.632.\n",
        "\n"
      ],
      "metadata": {
        "id": "LZdqG2eHsXqQ"
      }
    },
    {
      "cell_type": "markdown",
      "source": [
        "# Submission Instructions\n",
        "Please submit this Colab as **two** files to Gradescope:\n",
        "1.   A `.py` file: Click File > Download > Download .py\n",
        "2.   A `.ipynb` file with outputs: Click Runtime > Run All, and then after all outputs are complete, click File > Download > Download .ipynb\n",
        "\n",
        "Please ensure that the `.ipynb` contains actual function outputs (and not leftover print statements, for instance). We will run your `.ipynb` file; if our outputs don't match the outputs in your submitted file (within reason), you will receive a 0 on this assignment."
      ],
      "metadata": {
        "id": "uPsP1oW2x5Jb"
      }
    },
    {
      "cell_type": "markdown",
      "source": [
        "Last updated: 20 Sep 2022"
      ],
      "metadata": {
        "id": "YpNZxFzmr_Ha"
      }
    }
  ],
  "metadata": {
    "colab": {
      "collapsed_sections": [],
      "provenance": [],
      "toc_visible": true
    },
    "gpuClass": "standard",
    "kernelspec": {
      "display_name": "Python 3",
      "name": "python3"
    },
    "language_info": {
      "name": "python"
    }
  },
  "nbformat": 4,
  "nbformat_minor": 0
}